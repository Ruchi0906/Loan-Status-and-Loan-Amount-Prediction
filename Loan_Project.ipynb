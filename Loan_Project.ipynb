{
 "cells": [
  {
   "cell_type": "markdown",
   "id": "c5cc2841",
   "metadata": {},
   "source": [
    "# Problem Statment:\n",
    "    1. Loan Eligibility\n",
    "    2. Loan Amount for whose loan approval reject"
   ]
  },
  {
   "cell_type": "markdown",
   "id": "2cdd0293",
   "metadata": {},
   "source": [
    "# Problem Statement 1: Loan Eligibility"
   ]
  },
  {
   "cell_type": "code",
   "execution_count": 1,
   "id": "97b73a26",
   "metadata": {},
   "outputs": [],
   "source": [
    "import pandas as pd\n",
    "import numpy as np\n",
    "import matplotlib.pyplot as plt\n",
    "import seaborn as sb\n",
    "from warnings import filterwarnings\n",
    "filterwarnings(\"ignore\")"
   ]
  },
  {
   "cell_type": "markdown",
   "id": "8bc10bfa",
   "metadata": {},
   "source": [
    "# Read Data"
   ]
  },
  {
   "cell_type": "code",
   "execution_count": 2,
   "id": "e79d8567",
   "metadata": {},
   "outputs": [],
   "source": [
    "train = pd.read_csv(\"C:/Users/AYUSH/Desktop/Dataset/Loan Project/training_set.csv\")"
   ]
  },
  {
   "cell_type": "code",
   "execution_count": 3,
   "id": "5db29432",
   "metadata": {},
   "outputs": [
    {
     "data": {
      "text/html": [
       "<div>\n",
       "<style scoped>\n",
       "    .dataframe tbody tr th:only-of-type {\n",
       "        vertical-align: middle;\n",
       "    }\n",
       "\n",
       "    .dataframe tbody tr th {\n",
       "        vertical-align: top;\n",
       "    }\n",
       "\n",
       "    .dataframe thead th {\n",
       "        text-align: right;\n",
       "    }\n",
       "</style>\n",
       "<table border=\"1\" class=\"dataframe\">\n",
       "  <thead>\n",
       "    <tr style=\"text-align: right;\">\n",
       "      <th></th>\n",
       "      <th>Loan_ID</th>\n",
       "      <th>Gender</th>\n",
       "      <th>Married</th>\n",
       "      <th>Dependents</th>\n",
       "      <th>Education</th>\n",
       "      <th>Self_Employed</th>\n",
       "      <th>ApplicantIncome</th>\n",
       "      <th>CoapplicantIncome</th>\n",
       "      <th>LoanAmount</th>\n",
       "      <th>Loan_Amount_Term</th>\n",
       "      <th>Credit_History</th>\n",
       "      <th>Property_Area</th>\n",
       "      <th>Loan_Status</th>\n",
       "    </tr>\n",
       "  </thead>\n",
       "  <tbody>\n",
       "    <tr>\n",
       "      <th>0</th>\n",
       "      <td>LP001002</td>\n",
       "      <td>Male</td>\n",
       "      <td>No</td>\n",
       "      <td>0</td>\n",
       "      <td>Graduate</td>\n",
       "      <td>No</td>\n",
       "      <td>5849.0</td>\n",
       "      <td>0.0</td>\n",
       "      <td>NaN</td>\n",
       "      <td>360.0</td>\n",
       "      <td>1.0</td>\n",
       "      <td>Urban</td>\n",
       "      <td>Y</td>\n",
       "    </tr>\n",
       "    <tr>\n",
       "      <th>1</th>\n",
       "      <td>LP001003</td>\n",
       "      <td>Male</td>\n",
       "      <td>Yes</td>\n",
       "      <td>1</td>\n",
       "      <td>Graduate</td>\n",
       "      <td>No</td>\n",
       "      <td>NaN</td>\n",
       "      <td>1508.0</td>\n",
       "      <td>128.0</td>\n",
       "      <td>360.0</td>\n",
       "      <td>1.0</td>\n",
       "      <td>Rural</td>\n",
       "      <td>N</td>\n",
       "    </tr>\n",
       "    <tr>\n",
       "      <th>2</th>\n",
       "      <td>LP001005</td>\n",
       "      <td>Male</td>\n",
       "      <td>Yes</td>\n",
       "      <td>0</td>\n",
       "      <td>Graduate</td>\n",
       "      <td>Yes</td>\n",
       "      <td>3000.0</td>\n",
       "      <td>0.0</td>\n",
       "      <td>66.0</td>\n",
       "      <td>360.0</td>\n",
       "      <td>1.0</td>\n",
       "      <td>Urban</td>\n",
       "      <td>Y</td>\n",
       "    </tr>\n",
       "    <tr>\n",
       "      <th>3</th>\n",
       "      <td>LP001006</td>\n",
       "      <td>Male</td>\n",
       "      <td>Yes</td>\n",
       "      <td>0</td>\n",
       "      <td>Not Graduate</td>\n",
       "      <td>No</td>\n",
       "      <td>2583.0</td>\n",
       "      <td>2358.0</td>\n",
       "      <td>120.0</td>\n",
       "      <td>360.0</td>\n",
       "      <td>1.0</td>\n",
       "      <td>Urban</td>\n",
       "      <td>Y</td>\n",
       "    </tr>\n",
       "    <tr>\n",
       "      <th>4</th>\n",
       "      <td>LP001008</td>\n",
       "      <td>Male</td>\n",
       "      <td>No</td>\n",
       "      <td>0</td>\n",
       "      <td>Graduate</td>\n",
       "      <td>No</td>\n",
       "      <td>6000.0</td>\n",
       "      <td>0.0</td>\n",
       "      <td>141.0</td>\n",
       "      <td>360.0</td>\n",
       "      <td>1.0</td>\n",
       "      <td>Urban</td>\n",
       "      <td>Y</td>\n",
       "    </tr>\n",
       "  </tbody>\n",
       "</table>\n",
       "</div>"
      ],
      "text/plain": [
       "    Loan_ID Gender Married Dependents     Education Self_Employed  \\\n",
       "0  LP001002   Male      No          0      Graduate            No   \n",
       "1  LP001003   Male     Yes          1      Graduate            No   \n",
       "2  LP001005   Male     Yes          0      Graduate           Yes   \n",
       "3  LP001006   Male     Yes          0  Not Graduate            No   \n",
       "4  LP001008   Male      No          0      Graduate            No   \n",
       "\n",
       "   ApplicantIncome  CoapplicantIncome  LoanAmount  Loan_Amount_Term  \\\n",
       "0           5849.0                0.0         NaN             360.0   \n",
       "1              NaN             1508.0       128.0             360.0   \n",
       "2           3000.0                0.0        66.0             360.0   \n",
       "3           2583.0             2358.0       120.0             360.0   \n",
       "4           6000.0                0.0       141.0             360.0   \n",
       "\n",
       "   Credit_History Property_Area Loan_Status  \n",
       "0             1.0         Urban           Y  \n",
       "1             1.0         Rural           N  \n",
       "2             1.0         Urban           Y  \n",
       "3             1.0         Urban           Y  \n",
       "4             1.0         Urban           Y  "
      ]
     },
     "execution_count": 3,
     "metadata": {},
     "output_type": "execute_result"
    }
   ],
   "source": [
    "train.head()"
   ]
  },
  {
   "cell_type": "markdown",
   "id": "a7062c1e",
   "metadata": {},
   "source": [
    "# Profile"
   ]
  },
  {
   "cell_type": "code",
   "execution_count": 4,
   "id": "a1fb5bfd",
   "metadata": {},
   "outputs": [
    {
     "data": {
      "text/plain": [
       "(614, 13)"
      ]
     },
     "execution_count": 4,
     "metadata": {},
     "output_type": "execute_result"
    }
   ],
   "source": [
    "train.shape"
   ]
  },
  {
   "cell_type": "code",
   "execution_count": 5,
   "id": "933aaeb4",
   "metadata": {},
   "outputs": [
    {
     "name": "stdout",
     "output_type": "stream",
     "text": [
      "<class 'pandas.core.frame.DataFrame'>\n",
      "RangeIndex: 614 entries, 0 to 613\n",
      "Data columns (total 13 columns):\n",
      " #   Column             Non-Null Count  Dtype  \n",
      "---  ------             --------------  -----  \n",
      " 0   Loan_ID            614 non-null    object \n",
      " 1   Gender             599 non-null    object \n",
      " 2   Married            611 non-null    object \n",
      " 3   Dependents         599 non-null    object \n",
      " 4   Education          613 non-null    object \n",
      " 5   Self_Employed      582 non-null    object \n",
      " 6   ApplicantIncome    612 non-null    float64\n",
      " 7   CoapplicantIncome  613 non-null    float64\n",
      " 8   LoanAmount         592 non-null    float64\n",
      " 9   Loan_Amount_Term   600 non-null    float64\n",
      " 10  Credit_History     564 non-null    float64\n",
      " 11  Property_Area      614 non-null    object \n",
      " 12  Loan_Status        614 non-null    object \n",
      "dtypes: float64(5), object(8)\n",
      "memory usage: 62.5+ KB\n"
     ]
    }
   ],
   "source": [
    "train.info()"
   ]
  },
  {
   "cell_type": "code",
   "execution_count": 6,
   "id": "4dce56cb",
   "metadata": {},
   "outputs": [
    {
     "data": {
      "text/html": [
       "<div>\n",
       "<style scoped>\n",
       "    .dataframe tbody tr th:only-of-type {\n",
       "        vertical-align: middle;\n",
       "    }\n",
       "\n",
       "    .dataframe tbody tr th {\n",
       "        vertical-align: top;\n",
       "    }\n",
       "\n",
       "    .dataframe thead th {\n",
       "        text-align: right;\n",
       "    }\n",
       "</style>\n",
       "<table border=\"1\" class=\"dataframe\">\n",
       "  <thead>\n",
       "    <tr style=\"text-align: right;\">\n",
       "      <th></th>\n",
       "      <th>ApplicantIncome</th>\n",
       "      <th>CoapplicantIncome</th>\n",
       "      <th>LoanAmount</th>\n",
       "      <th>Loan_Amount_Term</th>\n",
       "      <th>Credit_History</th>\n",
       "    </tr>\n",
       "  </thead>\n",
       "  <tbody>\n",
       "    <tr>\n",
       "      <th>count</th>\n",
       "      <td>612.000000</td>\n",
       "      <td>613.000000</td>\n",
       "      <td>592.000000</td>\n",
       "      <td>600.00000</td>\n",
       "      <td>564.000000</td>\n",
       "    </tr>\n",
       "    <tr>\n",
       "      <th>mean</th>\n",
       "      <td>5405.540850</td>\n",
       "      <td>1620.888940</td>\n",
       "      <td>146.412162</td>\n",
       "      <td>342.00000</td>\n",
       "      <td>0.842199</td>\n",
       "    </tr>\n",
       "    <tr>\n",
       "      <th>std</th>\n",
       "      <td>6118.914057</td>\n",
       "      <td>2928.624748</td>\n",
       "      <td>85.587325</td>\n",
       "      <td>65.12041</td>\n",
       "      <td>0.364878</td>\n",
       "    </tr>\n",
       "    <tr>\n",
       "      <th>min</th>\n",
       "      <td>150.000000</td>\n",
       "      <td>0.000000</td>\n",
       "      <td>9.000000</td>\n",
       "      <td>12.00000</td>\n",
       "      <td>0.000000</td>\n",
       "    </tr>\n",
       "    <tr>\n",
       "      <th>25%</th>\n",
       "      <td>2875.750000</td>\n",
       "      <td>0.000000</td>\n",
       "      <td>100.000000</td>\n",
       "      <td>360.00000</td>\n",
       "      <td>1.000000</td>\n",
       "    </tr>\n",
       "    <tr>\n",
       "      <th>50%</th>\n",
       "      <td>3806.000000</td>\n",
       "      <td>1167.000000</td>\n",
       "      <td>128.000000</td>\n",
       "      <td>360.00000</td>\n",
       "      <td>1.000000</td>\n",
       "    </tr>\n",
       "    <tr>\n",
       "      <th>75%</th>\n",
       "      <td>5803.750000</td>\n",
       "      <td>2302.000000</td>\n",
       "      <td>168.000000</td>\n",
       "      <td>360.00000</td>\n",
       "      <td>1.000000</td>\n",
       "    </tr>\n",
       "    <tr>\n",
       "      <th>max</th>\n",
       "      <td>81000.000000</td>\n",
       "      <td>41667.000000</td>\n",
       "      <td>700.000000</td>\n",
       "      <td>480.00000</td>\n",
       "      <td>1.000000</td>\n",
       "    </tr>\n",
       "  </tbody>\n",
       "</table>\n",
       "</div>"
      ],
      "text/plain": [
       "       ApplicantIncome  CoapplicantIncome  LoanAmount  Loan_Amount_Term  \\\n",
       "count       612.000000         613.000000  592.000000         600.00000   \n",
       "mean       5405.540850        1620.888940  146.412162         342.00000   \n",
       "std        6118.914057        2928.624748   85.587325          65.12041   \n",
       "min         150.000000           0.000000    9.000000          12.00000   \n",
       "25%        2875.750000           0.000000  100.000000         360.00000   \n",
       "50%        3806.000000        1167.000000  128.000000         360.00000   \n",
       "75%        5803.750000        2302.000000  168.000000         360.00000   \n",
       "max       81000.000000       41667.000000  700.000000         480.00000   \n",
       "\n",
       "       Credit_History  \n",
       "count      564.000000  \n",
       "mean         0.842199  \n",
       "std          0.364878  \n",
       "min          0.000000  \n",
       "25%          1.000000  \n",
       "50%          1.000000  \n",
       "75%          1.000000  \n",
       "max          1.000000  "
      ]
     },
     "execution_count": 6,
     "metadata": {},
     "output_type": "execute_result"
    }
   ],
   "source": [
    "train.describe()"
   ]
  },
  {
   "cell_type": "markdown",
   "id": "91edf12f",
   "metadata": {},
   "source": [
    "# Drop unnecessary Columns"
   ]
  },
  {
   "cell_type": "code",
   "execution_count": 7,
   "id": "34e92bd7",
   "metadata": {},
   "outputs": [
    {
     "data": {
      "text/plain": [
       "Loan_ID              614\n",
       "Gender                 2\n",
       "Married                2\n",
       "Dependents             4\n",
       "Education              2\n",
       "Self_Employed          2\n",
       "ApplicantIncome      504\n",
       "CoapplicantIncome    286\n",
       "LoanAmount           203\n",
       "Loan_Amount_Term      10\n",
       "Credit_History         2\n",
       "Property_Area          3\n",
       "Loan_Status            2\n",
       "dtype: int64"
      ]
     },
     "execution_count": 7,
     "metadata": {},
     "output_type": "execute_result"
    }
   ],
   "source": [
    "train.nunique()"
   ]
  },
  {
   "cell_type": "code",
   "execution_count": 8,
   "id": "1ae6bbc4",
   "metadata": {},
   "outputs": [],
   "source": [
    "train = train.drop(labels=\"Loan_ID\",axis=1)"
   ]
  },
  {
   "cell_type": "markdown",
   "id": "9ed07259",
   "metadata": {},
   "source": [
    "# Find and Replace Missing Data"
   ]
  },
  {
   "cell_type": "code",
   "execution_count": 9,
   "id": "28f9bf31",
   "metadata": {},
   "outputs": [
    {
     "data": {
      "text/plain": [
       "Gender               15\n",
       "Married               3\n",
       "Dependents           15\n",
       "Education             1\n",
       "Self_Employed        32\n",
       "ApplicantIncome       2\n",
       "CoapplicantIncome     1\n",
       "LoanAmount           22\n",
       "Loan_Amount_Term     14\n",
       "Credit_History       50\n",
       "Property_Area         0\n",
       "Loan_Status           0\n",
       "dtype: int64"
      ]
     },
     "execution_count": 9,
     "metadata": {},
     "output_type": "execute_result"
    }
   ],
   "source": [
    "train.isna().sum()"
   ]
  },
  {
   "cell_type": "code",
   "execution_count": 10,
   "id": "91ecf2ab",
   "metadata": {},
   "outputs": [],
   "source": [
    "def Replace_nan(df):\n",
    "    Q=pd.DataFrame(df.isna().sum(),columns=[\"Count_null\"])\n",
    "    for i in Q[Q.Count_null>0].index:\n",
    "        if(df[i].dtypes == \"object\"):\n",
    "            x = df[i].mode()[0]\n",
    "            df[i] = df[i].fillna(x)\n",
    "        else:\n",
    "            y = round(df[i].mean(),4)\n",
    "            df[i] = df[i].fillna(y)"
   ]
  },
  {
   "cell_type": "code",
   "execution_count": 11,
   "id": "9a1cd9c5",
   "metadata": {},
   "outputs": [],
   "source": [
    "Replace_nan(train)"
   ]
  },
  {
   "cell_type": "markdown",
   "id": "6e5076d5",
   "metadata": {},
   "source": [
    "# Define X and Y"
   ]
  },
  {
   "cell_type": "code",
   "execution_count": 106,
   "id": "fe5d3871",
   "metadata": {},
   "outputs": [],
   "source": [
    "X = train.drop(labels=\"Loan_Status\",axis=1)\n",
    "Y = train[[\"Loan_Status\"]]"
   ]
  },
  {
   "cell_type": "code",
   "execution_count": 13,
   "id": "5f52b0ea",
   "metadata": {},
   "outputs": [],
   "source": [
    "from sklearn.preprocessing import LabelEncoder\n",
    "le = LabelEncoder()\n",
    "Y = pd.DataFrame(le.fit_transform(Y.Loan_Status),columns=[\"Loan_Status\"])"
   ]
  },
  {
   "cell_type": "markdown",
   "id": "a5fd29c3",
   "metadata": {},
   "source": [
    "# Separate Catograical and Continuous "
   ]
  },
  {
   "cell_type": "code",
   "execution_count": 14,
   "id": "d4523704",
   "metadata": {},
   "outputs": [],
   "source": [
    "def catconsep(df):\n",
    "    cat=[]\n",
    "    con=[]\n",
    "    for i in df.columns:\n",
    "        if(df[i].dtypes=='object'):\n",
    "            cat.append(i)\n",
    "        else:\n",
    "            con.append(i)\n",
    "    return cat,con"
   ]
  },
  {
   "cell_type": "code",
   "execution_count": 15,
   "id": "92a607b4",
   "metadata": {},
   "outputs": [],
   "source": [
    "cat,con = catconsep(X)"
   ]
  },
  {
   "cell_type": "code",
   "execution_count": 16,
   "id": "65703686",
   "metadata": {},
   "outputs": [
    {
     "data": {
      "text/html": [
       "<div>\n",
       "<style scoped>\n",
       "    .dataframe tbody tr th:only-of-type {\n",
       "        vertical-align: middle;\n",
       "    }\n",
       "\n",
       "    .dataframe tbody tr th {\n",
       "        vertical-align: top;\n",
       "    }\n",
       "\n",
       "    .dataframe thead th {\n",
       "        text-align: right;\n",
       "    }\n",
       "</style>\n",
       "<table border=\"1\" class=\"dataframe\">\n",
       "  <thead>\n",
       "    <tr style=\"text-align: right;\">\n",
       "      <th></th>\n",
       "      <th>Gender</th>\n",
       "      <th>Married</th>\n",
       "      <th>Dependents</th>\n",
       "      <th>Education</th>\n",
       "      <th>Self_Employed</th>\n",
       "      <th>Property_Area</th>\n",
       "    </tr>\n",
       "  </thead>\n",
       "  <tbody>\n",
       "    <tr>\n",
       "      <th>0</th>\n",
       "      <td>Male</td>\n",
       "      <td>No</td>\n",
       "      <td>0</td>\n",
       "      <td>Graduate</td>\n",
       "      <td>No</td>\n",
       "      <td>Urban</td>\n",
       "    </tr>\n",
       "    <tr>\n",
       "      <th>1</th>\n",
       "      <td>Male</td>\n",
       "      <td>Yes</td>\n",
       "      <td>1</td>\n",
       "      <td>Graduate</td>\n",
       "      <td>No</td>\n",
       "      <td>Rural</td>\n",
       "    </tr>\n",
       "  </tbody>\n",
       "</table>\n",
       "</div>"
      ],
      "text/plain": [
       "  Gender Married Dependents Education Self_Employed Property_Area\n",
       "0   Male      No          0  Graduate            No         Urban\n",
       "1   Male     Yes          1  Graduate            No         Rural"
      ]
     },
     "execution_count": 16,
     "metadata": {},
     "output_type": "execute_result"
    }
   ],
   "source": [
    "X[cat].head(2)"
   ]
  },
  {
   "cell_type": "code",
   "execution_count": 17,
   "id": "00d8ba06",
   "metadata": {},
   "outputs": [
    {
     "data": {
      "text/html": [
       "<div>\n",
       "<style scoped>\n",
       "    .dataframe tbody tr th:only-of-type {\n",
       "        vertical-align: middle;\n",
       "    }\n",
       "\n",
       "    .dataframe tbody tr th {\n",
       "        vertical-align: top;\n",
       "    }\n",
       "\n",
       "    .dataframe thead th {\n",
       "        text-align: right;\n",
       "    }\n",
       "</style>\n",
       "<table border=\"1\" class=\"dataframe\">\n",
       "  <thead>\n",
       "    <tr style=\"text-align: right;\">\n",
       "      <th></th>\n",
       "      <th>ApplicantIncome</th>\n",
       "      <th>CoapplicantIncome</th>\n",
       "      <th>LoanAmount</th>\n",
       "      <th>Loan_Amount_Term</th>\n",
       "      <th>Credit_History</th>\n",
       "    </tr>\n",
       "  </thead>\n",
       "  <tbody>\n",
       "    <tr>\n",
       "      <th>0</th>\n",
       "      <td>5849.0000</td>\n",
       "      <td>0.0</td>\n",
       "      <td>146.4122</td>\n",
       "      <td>360.0</td>\n",
       "      <td>1.0</td>\n",
       "    </tr>\n",
       "    <tr>\n",
       "      <th>1</th>\n",
       "      <td>5405.5408</td>\n",
       "      <td>1508.0</td>\n",
       "      <td>128.0000</td>\n",
       "      <td>360.0</td>\n",
       "      <td>1.0</td>\n",
       "    </tr>\n",
       "  </tbody>\n",
       "</table>\n",
       "</div>"
      ],
      "text/plain": [
       "   ApplicantIncome  CoapplicantIncome  LoanAmount  Loan_Amount_Term  \\\n",
       "0        5849.0000                0.0    146.4122             360.0   \n",
       "1        5405.5408             1508.0    128.0000             360.0   \n",
       "\n",
       "   Credit_History  \n",
       "0             1.0  \n",
       "1             1.0  "
      ]
     },
     "execution_count": 17,
     "metadata": {},
     "output_type": "execute_result"
    }
   ],
   "source": [
    "X[con].head(2)"
   ]
  },
  {
   "cell_type": "markdown",
   "id": "7826f2fc",
   "metadata": {},
   "source": [
    "# Find and Remove Skew"
   ]
  },
  {
   "cell_type": "code",
   "execution_count": 18,
   "id": "a79b5d37",
   "metadata": {},
   "outputs": [
    {
     "data": {
      "text/plain": [
       "Loan_Amount_Term    -2.389680\n",
       "Credit_History      -1.963601\n",
       "LoanAmount           2.726601\n",
       "ApplicantIncome      6.538870\n",
       "CoapplicantIncome    7.492000\n",
       "dtype: float64"
      ]
     },
     "execution_count": 18,
     "metadata": {},
     "output_type": "execute_result"
    }
   ],
   "source": [
    "X.skew().sort_values()"
   ]
  },
  {
   "cell_type": "code",
   "execution_count": 19,
   "id": "7ad930b7",
   "metadata": {},
   "outputs": [],
   "source": [
    "cols_skew = [\"Loan_Amount_Term\",\"Credit_History\",\"ApplicantIncome\",\"CoapplicantIncome\",\"LoanAmount\"]"
   ]
  },
  {
   "cell_type": "code",
   "execution_count": 20,
   "id": "bceebff0",
   "metadata": {},
   "outputs": [],
   "source": [
    "for i in cols_skew:\n",
    "    for j in range(0,614,1):\n",
    "        if(X[[i]].iloc[j,0]==0):\n",
    "            X[[i]] = X[[i]].replace(0,0.001)\n",
    "X1 = X[cols_skew].apply(np.log)"
   ]
  },
  {
   "cell_type": "code",
   "execution_count": 21,
   "id": "3c552e54",
   "metadata": {},
   "outputs": [],
   "source": [
    "X = X.drop(labels=cols_skew,axis=1)\n",
    "X2 = X.join(X1)"
   ]
  },
  {
   "cell_type": "code",
   "execution_count": 22,
   "id": "b98c0888",
   "metadata": {},
   "outputs": [
    {
     "data": {
      "text/html": [
       "<div>\n",
       "<style scoped>\n",
       "    .dataframe tbody tr th:only-of-type {\n",
       "        vertical-align: middle;\n",
       "    }\n",
       "\n",
       "    .dataframe tbody tr th {\n",
       "        vertical-align: top;\n",
       "    }\n",
       "\n",
       "    .dataframe thead th {\n",
       "        text-align: right;\n",
       "    }\n",
       "</style>\n",
       "<table border=\"1\" class=\"dataframe\">\n",
       "  <thead>\n",
       "    <tr style=\"text-align: right;\">\n",
       "      <th></th>\n",
       "      <th>Gender</th>\n",
       "      <th>Married</th>\n",
       "      <th>Dependents</th>\n",
       "      <th>Education</th>\n",
       "      <th>Self_Employed</th>\n",
       "      <th>Property_Area</th>\n",
       "      <th>Loan_Amount_Term</th>\n",
       "      <th>Credit_History</th>\n",
       "      <th>ApplicantIncome</th>\n",
       "      <th>CoapplicantIncome</th>\n",
       "      <th>LoanAmount</th>\n",
       "    </tr>\n",
       "  </thead>\n",
       "  <tbody>\n",
       "    <tr>\n",
       "      <th>0</th>\n",
       "      <td>Male</td>\n",
       "      <td>No</td>\n",
       "      <td>0</td>\n",
       "      <td>Graduate</td>\n",
       "      <td>No</td>\n",
       "      <td>Urban</td>\n",
       "      <td>5.886104</td>\n",
       "      <td>0.0</td>\n",
       "      <td>8.674026</td>\n",
       "      <td>-6.907755</td>\n",
       "      <td>4.986426</td>\n",
       "    </tr>\n",
       "    <tr>\n",
       "      <th>1</th>\n",
       "      <td>Male</td>\n",
       "      <td>Yes</td>\n",
       "      <td>1</td>\n",
       "      <td>Graduate</td>\n",
       "      <td>No</td>\n",
       "      <td>Rural</td>\n",
       "      <td>5.886104</td>\n",
       "      <td>0.0</td>\n",
       "      <td>8.595180</td>\n",
       "      <td>7.318540</td>\n",
       "      <td>4.852030</td>\n",
       "    </tr>\n",
       "    <tr>\n",
       "      <th>2</th>\n",
       "      <td>Male</td>\n",
       "      <td>Yes</td>\n",
       "      <td>0</td>\n",
       "      <td>Graduate</td>\n",
       "      <td>Yes</td>\n",
       "      <td>Urban</td>\n",
       "      <td>5.886104</td>\n",
       "      <td>0.0</td>\n",
       "      <td>8.006368</td>\n",
       "      <td>-6.907755</td>\n",
       "      <td>4.189655</td>\n",
       "    </tr>\n",
       "  </tbody>\n",
       "</table>\n",
       "</div>"
      ],
      "text/plain": [
       "  Gender Married Dependents Education Self_Employed Property_Area  \\\n",
       "0   Male      No          0  Graduate            No         Urban   \n",
       "1   Male     Yes          1  Graduate            No         Rural   \n",
       "2   Male     Yes          0  Graduate           Yes         Urban   \n",
       "\n",
       "   Loan_Amount_Term  Credit_History  ApplicantIncome  CoapplicantIncome  \\\n",
       "0          5.886104             0.0         8.674026          -6.907755   \n",
       "1          5.886104             0.0         8.595180           7.318540   \n",
       "2          5.886104             0.0         8.006368          -6.907755   \n",
       "\n",
       "   LoanAmount  \n",
       "0    4.986426  \n",
       "1    4.852030  \n",
       "2    4.189655  "
      ]
     },
     "execution_count": 22,
     "metadata": {},
     "output_type": "execute_result"
    }
   ],
   "source": [
    "X2.head(3)"
   ]
  },
  {
   "cell_type": "markdown",
   "id": "5a0fb3bb",
   "metadata": {},
   "source": [
    "# Exploratory Data Analysis"
   ]
  },
  {
   "cell_type": "markdown",
   "id": "3f21ef3d",
   "metadata": {},
   "source": [
    "# Univarate"
   ]
  },
  {
   "cell_type": "code",
   "execution_count": 110,
   "id": "8f2814cf",
   "metadata": {},
   "outputs": [
    {
     "data": {
      "image/png": "[encoded data removed]",
      "text/plain": [
       "<Figure size 2160x4320 with 11 Axes>"
      ]
     },
     "metadata": {
      "needs_background": "light"
     },
     "output_type": "display_data"
    }
   ],
   "source": [
    "plt.figure(figsize=(30,60))\n",
    "q = 1\n",
    "for i in X.columns:\n",
    "    if(X[i].dtypes=='object'):\n",
    "        plt.subplot(8,3,q)\n",
    "        sb.countplot(X[i])\n",
    "        q = q+1\n",
    "    else:\n",
    "        plt.subplot(8,3,q)\n",
    "        sb.distplot(X[i])\n",
    "        q = q+1"
   ]
  },
  {
   "cell_type": "markdown",
   "id": "ab546533",
   "metadata": {},
   "source": [
    "# Bivarate"
   ]
  },
  {
   "cell_type": "code",
   "execution_count": 111,
   "id": "22507b33",
   "metadata": {},
   "outputs": [
    {
     "data": {
      "image/png": "[encoded data removed]",
      "text/plain": [
       "<Figure size 2160x4320 with 11 Axes>"
      ]
     },
     "metadata": {
      "needs_background": "light"
     },
     "output_type": "display_data"
    }
   ],
   "source": [
    "plt.figure(figsize=(30,60))\n",
    "q = 1\n",
    "for i in X.columns:\n",
    "    if(X[i].dtypes=='object'):\n",
    "        plt.subplot(8,2,q)\n",
    "        sb.countplot(x = i,hue=\"Loan_Status\",data = train)\n",
    "        q = q+1\n",
    "    else:\n",
    "        \n",
    "        plt.subplot(8,2,q)\n",
    "        sb.boxplot(x = \"Loan_Status\", y = i,data = train)\n",
    "        q = q+1"
   ]
  },
  {
   "cell_type": "code",
   "execution_count": 25,
   "id": "18965ed5",
   "metadata": {},
   "outputs": [],
   "source": [
    "def ANOVA(df,cat,con):\n",
    "    from pandas import DataFrame\n",
    "    from statsmodels.formula.api import ols\n",
    "    rel = con + ' ~ ' + cat\n",
    "    model = ols(rel,df).fit()\n",
    "    from statsmodels.stats.anova import anova_lm\n",
    "    anova_results = anova_lm(model)\n",
    "    Q = DataFrame(anova_results)\n",
    "    a = Q[\"PR(>F)\"][cat]\n",
    "    return round(a,4)"
   ]
  },
  {
   "cell_type": "code",
   "execution_count": 26,
   "id": "0bab8f1f",
   "metadata": {},
   "outputs": [
    {
     "name": "stdout",
     "output_type": "stream",
     "text": [
      "Gender 0.7391\n",
      "------------------------------\n",
      "Married 0.0296\n",
      "------------------------------\n",
      "Dependents 0.3689\n",
      "------------------------------\n",
      "Education 0.0431\n",
      "------------------------------\n",
      "Self_Employed 1.0\n",
      "------------------------------\n",
      "Property_Area 0.0021\n",
      "------------------------------\n",
      "Loan_Amount_Term 0.604\n",
      "------------------------------\n",
      "Credit_History 0.0\n",
      "------------------------------\n",
      "ApplicantIncome 0.9025\n",
      "------------------------------\n",
      "CoapplicantIncome 0.1424\n",
      "------------------------------\n",
      "LoanAmount 0.3677\n",
      "------------------------------\n"
     ]
    }
   ],
   "source": [
    "from scipy.stats import chi2_contingency\n",
    "for i in X2.columns:\n",
    "    if(X2[i].dtypes != \"object\"):\n",
    "        print(i,ANOVA(train,\"Loan_Status\",i))\n",
    "        print(\"------------------------------\")\n",
    "    else:\n",
    "        a,b,c,d = chi2_contingency(pd.crosstab(train['Loan_Status'],train[i]))\n",
    "        print(i,round(b,4))\n",
    "        print(\"------------------------------\")"
   ]
  },
  {
   "cell_type": "markdown",
   "id": "b116dd6e",
   "metadata": {},
   "source": [
    "# Preprocessing"
   ]
  },
  {
   "cell_type": "code",
   "execution_count": 27,
   "id": "8bb36ecd",
   "metadata": {},
   "outputs": [],
   "source": [
    "def preprocessing(df):\n",
    "    cat,con = catconsep(df)\n",
    "    import pandas as pd\n",
    "    X1 = pd.get_dummies(df[cat])\n",
    "    from sklearn.preprocessing import StandardScaler\n",
    "    ss = StandardScaler()\n",
    "    X2 = pd.DataFrame(ss.fit_transform(df[con]),columns=con)\n",
    "    X3=X2.join(X1)\n",
    "    return X3"
   ]
  },
  {
   "cell_type": "code",
   "execution_count": 28,
   "id": "3168092b",
   "metadata": {},
   "outputs": [],
   "source": [
    "Xnew = preprocessing(X2)"
   ]
  },
  {
   "cell_type": "code",
   "execution_count": 29,
   "id": "0de5be2c",
   "metadata": {},
   "outputs": [
    {
     "data": {
      "text/html": [
       "<div>\n",
       "<style scoped>\n",
       "    .dataframe tbody tr th:only-of-type {\n",
       "        vertical-align: middle;\n",
       "    }\n",
       "\n",
       "    .dataframe tbody tr th {\n",
       "        vertical-align: top;\n",
       "    }\n",
       "\n",
       "    .dataframe thead th {\n",
       "        text-align: right;\n",
       "    }\n",
       "</style>\n",
       "<table border=\"1\" class=\"dataframe\">\n",
       "  <thead>\n",
       "    <tr style=\"text-align: right;\">\n",
       "      <th></th>\n",
       "      <th>Loan_Amount_Term</th>\n",
       "      <th>Credit_History</th>\n",
       "      <th>ApplicantIncome</th>\n",
       "      <th>CoapplicantIncome</th>\n",
       "      <th>LoanAmount</th>\n",
       "      <th>Gender_Female</th>\n",
       "      <th>Gender_Male</th>\n",
       "      <th>Married_No</th>\n",
       "      <th>Married_Yes</th>\n",
       "      <th>Dependents_0</th>\n",
       "      <th>Dependents_1</th>\n",
       "      <th>Dependents_2</th>\n",
       "      <th>Dependents_3+</th>\n",
       "      <th>Education_Graduate</th>\n",
       "      <th>Education_Not Graduate</th>\n",
       "      <th>Self_Employed_No</th>\n",
       "      <th>Self_Employed_Yes</th>\n",
       "      <th>Property_Area_Rural</th>\n",
       "      <th>Property_Area_Semiurban</th>\n",
       "      <th>Property_Area_Urban</th>\n",
       "    </tr>\n",
       "  </thead>\n",
       "  <tbody>\n",
       "    <tr>\n",
       "      <th>0</th>\n",
       "      <td>0.269161</td>\n",
       "      <td>0.418397</td>\n",
       "      <td>0.515465</td>\n",
       "      <td>-1.114841</td>\n",
       "      <td>0.250640</td>\n",
       "      <td>0</td>\n",
       "      <td>1</td>\n",
       "      <td>1</td>\n",
       "      <td>0</td>\n",
       "      <td>1</td>\n",
       "      <td>0</td>\n",
       "      <td>0</td>\n",
       "      <td>0</td>\n",
       "      <td>1</td>\n",
       "      <td>0</td>\n",
       "      <td>1</td>\n",
       "      <td>0</td>\n",
       "      <td>0</td>\n",
       "      <td>0</td>\n",
       "      <td>1</td>\n",
       "    </tr>\n",
       "    <tr>\n",
       "      <th>1</th>\n",
       "      <td>0.269161</td>\n",
       "      <td>0.418397</td>\n",
       "      <td>0.393196</td>\n",
       "      <td>0.836945</td>\n",
       "      <td>-0.020226</td>\n",
       "      <td>0</td>\n",
       "      <td>1</td>\n",
       "      <td>0</td>\n",
       "      <td>1</td>\n",
       "      <td>0</td>\n",
       "      <td>1</td>\n",
       "      <td>0</td>\n",
       "      <td>0</td>\n",
       "      <td>1</td>\n",
       "      <td>0</td>\n",
       "      <td>1</td>\n",
       "      <td>0</td>\n",
       "      <td>1</td>\n",
       "      <td>0</td>\n",
       "      <td>0</td>\n",
       "    </tr>\n",
       "    <tr>\n",
       "      <th>2</th>\n",
       "      <td>0.269161</td>\n",
       "      <td>0.418397</td>\n",
       "      <td>-0.519896</td>\n",
       "      <td>-1.114841</td>\n",
       "      <td>-1.355202</td>\n",
       "      <td>0</td>\n",
       "      <td>1</td>\n",
       "      <td>0</td>\n",
       "      <td>1</td>\n",
       "      <td>1</td>\n",
       "      <td>0</td>\n",
       "      <td>0</td>\n",
       "      <td>0</td>\n",
       "      <td>1</td>\n",
       "      <td>0</td>\n",
       "      <td>0</td>\n",
       "      <td>1</td>\n",
       "      <td>0</td>\n",
       "      <td>0</td>\n",
       "      <td>1</td>\n",
       "    </tr>\n",
       "  </tbody>\n",
       "</table>\n",
       "</div>"
      ],
      "text/plain": [
       "   Loan_Amount_Term  Credit_History  ApplicantIncome  CoapplicantIncome  \\\n",
       "0          0.269161        0.418397         0.515465          -1.114841   \n",
       "1          0.269161        0.418397         0.393196           0.836945   \n",
       "2          0.269161        0.418397        -0.519896          -1.114841   \n",
       "\n",
       "   LoanAmount  Gender_Female  Gender_Male  Married_No  Married_Yes  \\\n",
       "0    0.250640              0            1           1            0   \n",
       "1   -0.020226              0            1           0            1   \n",
       "2   -1.355202              0            1           0            1   \n",
       "\n",
       "   Dependents_0  Dependents_1  Dependents_2  Dependents_3+  \\\n",
       "0             1             0             0              0   \n",
       "1             0             1             0              0   \n",
       "2             1             0             0              0   \n",
       "\n",
       "   Education_Graduate  Education_Not Graduate  Self_Employed_No  \\\n",
       "0                   1                       0                 1   \n",
       "1                   1                       0                 1   \n",
       "2                   1                       0                 0   \n",
       "\n",
       "   Self_Employed_Yes  Property_Area_Rural  Property_Area_Semiurban  \\\n",
       "0                  0                    0                        0   \n",
       "1                  0                    1                        0   \n",
       "2                  1                    0                        0   \n",
       "\n",
       "   Property_Area_Urban  \n",
       "0                    1  \n",
       "1                    0  \n",
       "2                    1  "
      ]
     },
     "execution_count": 29,
     "metadata": {},
     "output_type": "execute_result"
    }
   ],
   "source": [
    "Xnew.head(3)"
   ]
  },
  {
   "cell_type": "markdown",
   "id": "613b51e6",
   "metadata": {},
   "source": [
    "# Splitting the data into Training data & Testing Data"
   ]
  },
  {
   "cell_type": "code",
   "execution_count": 30,
   "id": "c4b5151e",
   "metadata": {},
   "outputs": [],
   "source": [
    "from sklearn.model_selection import train_test_split\n",
    "xtrain,xtest,ytrain,ytest = train_test_split(Xnew,Y,test_size=0.2,random_state=42)"
   ]
  },
  {
   "cell_type": "markdown",
   "id": "cefac498",
   "metadata": {},
   "source": [
    "# Classification Models\n",
    "\n",
    "    1. Random Forest\n",
    "    2. Decision Tree Classification\n",
    "    3. Logistic Regression\n",
    "    4. Adaboost Regression\n",
    "    5. Kneighbors Classification"
   ]
  },
  {
   "cell_type": "code",
   "execution_count": 31,
   "id": "415bf1eb",
   "metadata": {},
   "outputs": [],
   "source": [
    "from sklearn.linear_model import LogisticRegression\n",
    "from sklearn.tree import DecisionTreeClassifier\n",
    "from sklearn.ensemble import RandomForestClassifier\n",
    "from sklearn.ensemble import AdaBoostClassifier\n",
    "from sklearn.neighbors import KNeighborsClassifier"
   ]
  },
  {
   "cell_type": "code",
   "execution_count": 32,
   "id": "fb11d2d0",
   "metadata": {},
   "outputs": [],
   "source": [
    "def model(mobj):\n",
    "    model = mobj.fit(xtrain,ytrain)\n",
    "    from sklearn.metrics import accuracy_score\n",
    "    tr_pred = model.predict(xtrain)\n",
    "    tr_acc = round(accuracy_score(ytrain,tr_pred),3)\n",
    "    ts_pred = model.predict(xtest)\n",
    "    ts_acc = round(accuracy_score(ytest,ts_pred),3)\n",
    "    return tr_acc,ts_acc,mobj"
   ]
  },
  {
   "cell_type": "markdown",
   "id": "8693fc66",
   "metadata": {},
   "source": [
    "# logistic regression"
   ]
  },
  {
   "cell_type": "code",
   "execution_count": 33,
   "id": "09a7a896",
   "metadata": {},
   "outputs": [
    {
     "data": {
      "text/plain": [
       "(0.815, 0.789, LogisticRegression())"
      ]
     },
     "execution_count": 33,
     "metadata": {},
     "output_type": "execute_result"
    }
   ],
   "source": [
    "lr = LogisticRegression()\n",
    "model(lr)"
   ]
  },
  {
   "cell_type": "markdown",
   "id": "9a07a852",
   "metadata": {},
   "source": [
    "# Decision Tree classification"
   ]
  },
  {
   "cell_type": "code",
   "execution_count": 34,
   "id": "22e26911",
   "metadata": {},
   "outputs": [
    {
     "data": {
      "text/plain": [
       "(1.0, 0.724, DecisionTreeClassifier(random_state=21))"
      ]
     },
     "execution_count": 34,
     "metadata": {},
     "output_type": "execute_result"
    }
   ],
   "source": [
    "dtc = DecisionTreeClassifier(random_state=21)\n",
    "model(dtc)"
   ]
  },
  {
   "cell_type": "markdown",
   "id": "acfb88d8",
   "metadata": {},
   "source": [
    "# Random Forest Classification"
   ]
  },
  {
   "cell_type": "code",
   "execution_count": 35,
   "id": "62ba61a5",
   "metadata": {},
   "outputs": [
    {
     "data": {
      "text/plain": [
       "(1.0, 0.748, RandomForestClassifier(random_state=31))"
      ]
     },
     "execution_count": 35,
     "metadata": {},
     "output_type": "execute_result"
    }
   ],
   "source": [
    "rfc = RandomForestClassifier(random_state=31)\n",
    "model(rfc)"
   ]
  },
  {
   "cell_type": "markdown",
   "id": "de09a3f3",
   "metadata": {},
   "source": [
    "# Adaboost Classification"
   ]
  },
  {
   "cell_type": "code",
   "execution_count": 36,
   "id": "995b1e7b",
   "metadata": {},
   "outputs": [
    {
     "data": {
      "text/plain": [
       "(1.0,\n",
       " 0.707,\n",
       " AdaBoostClassifier(base_estimator=DecisionTreeClassifier(random_state=21),\n",
       "                    random_state=31))"
      ]
     },
     "execution_count": 36,
     "metadata": {},
     "output_type": "execute_result"
    }
   ],
   "source": [
    "abc = AdaBoostClassifier(dtc,random_state=31)\n",
    "model(abc)"
   ]
  },
  {
   "cell_type": "markdown",
   "id": "868f89ff",
   "metadata": {},
   "source": [
    "# KNeighbors Classification"
   ]
  },
  {
   "cell_type": "code",
   "execution_count": 37,
   "id": "81b1f880",
   "metadata": {},
   "outputs": [
    {
     "data": {
      "text/plain": [
       "(0.827, 0.772, KNeighborsClassifier())"
      ]
     },
     "execution_count": 37,
     "metadata": {},
     "output_type": "execute_result"
    }
   ],
   "source": [
    "knc = KNeighborsClassifier()\n",
    "model(knc)"
   ]
  },
  {
   "cell_type": "markdown",
   "id": "e7c604dc",
   "metadata": {},
   "source": [
    "# Tune the hyperparameter"
   ]
  },
  {
   "cell_type": "code",
   "execution_count": 38,
   "id": "3a337393",
   "metadata": {},
   "outputs": [],
   "source": [
    "def cv_tune(mobj,tp):\n",
    "    from sklearn.model_selection import GridSearchCV\n",
    "    cv = GridSearchCV(mobj,tp,scoring=\"accuracy\",cv=4)\n",
    "    cvmodel = cv.fit(xtrain,ytrain)\n",
    "    return cvmodel.best_params_"
   ]
  },
  {
   "cell_type": "code",
   "execution_count": 39,
   "id": "a8f8fe89",
   "metadata": {},
   "outputs": [
    {
     "data": {
      "text/plain": [
       "{'max_depth': 5}"
      ]
     },
     "execution_count": 39,
     "metadata": {},
     "output_type": "execute_result"
    }
   ],
   "source": [
    "#for random forest classification\n",
    "tp = {\"max_depth\":range(2,10,1)}\n",
    "cv_tune(rfc,tp)"
   ]
  },
  {
   "cell_type": "code",
   "execution_count": 40,
   "id": "ad20d4fc",
   "metadata": {},
   "outputs": [
    {
     "data": {
      "text/plain": [
       "(0.827, 0.789, RandomForestClassifier(max_depth=5, random_state=31))"
      ]
     },
     "execution_count": 40,
     "metadata": {},
     "output_type": "execute_result"
    }
   ],
   "source": [
    "rf = RandomForestClassifier(max_depth=5,random_state=31)\n",
    "model(rf)"
   ]
  },
  {
   "cell_type": "code",
   "execution_count": 41,
   "id": "548fc24c",
   "metadata": {},
   "outputs": [
    {
     "name": "stdout",
     "output_type": "stream",
     "text": [
      "{'max_depth': 2}\n",
      "{'min_samples_leaf': 21}\n",
      "{'min_samples_split': 22}\n"
     ]
    }
   ],
   "source": [
    "#for Decision Tree classification\n",
    "for i in [\"max_depth\",\"min_samples_leaf\",\"min_samples_split\"]:\n",
    "    tg = {i:range(2,30)}\n",
    "    print(cv_tune(dtc,tg))"
   ]
  },
  {
   "cell_type": "code",
   "execution_count": 42,
   "id": "1d9ae50b",
   "metadata": {},
   "outputs": [
    {
     "data": {
      "text/plain": [
       "(0.821, 0.789, DecisionTreeClassifier(max_depth=2, random_state=21))"
      ]
     },
     "execution_count": 42,
     "metadata": {},
     "output_type": "execute_result"
    }
   ],
   "source": [
    "dtc_depth = DecisionTreeClassifier(max_depth=2,random_state=21)\n",
    "model(dtc_depth)"
   ]
  },
  {
   "cell_type": "code",
   "execution_count": 43,
   "id": "672337ff",
   "metadata": {},
   "outputs": [
    {
     "data": {
      "text/plain": [
       "(0.815, 0.764, DecisionTreeClassifier(min_samples_leaf=21, random_state=21))"
      ]
     },
     "execution_count": 43,
     "metadata": {},
     "output_type": "execute_result"
    }
   ],
   "source": [
    "dtc_leaf = DecisionTreeClassifier(min_samples_leaf=21,random_state=21)\n",
    "model(dtc_leaf)"
   ]
  },
  {
   "cell_type": "code",
   "execution_count": 44,
   "id": "9d9abf3f",
   "metadata": {},
   "outputs": [
    {
     "data": {
      "text/plain": [
       "(0.874, 0.707, DecisionTreeClassifier(min_samples_split=22, random_state=21))"
      ]
     },
     "execution_count": 44,
     "metadata": {},
     "output_type": "execute_result"
    }
   ],
   "source": [
    "dtc_split = DecisionTreeClassifier(min_samples_split=22,random_state=21)\n",
    "model(dtc_split)"
   ]
  },
  {
   "cell_type": "code",
   "execution_count": 45,
   "id": "0993dfdc",
   "metadata": {},
   "outputs": [
    {
     "data": {
      "text/plain": [
       "(0.951,\n",
       " 0.699,\n",
       " AdaBoostClassifier(base_estimator=DecisionTreeClassifier(max_depth=2,\n",
       "                                                          random_state=21),\n",
       "                    random_state=31))"
      ]
     },
     "execution_count": 45,
     "metadata": {},
     "output_type": "execute_result"
    }
   ],
   "source": [
    "#for adaboost classification\n",
    "abc = AdaBoostClassifier(dtc_depth,random_state=31)\n",
    "model(abc)"
   ]
  },
  {
   "cell_type": "code",
   "execution_count": 46,
   "id": "33668ed0",
   "metadata": {},
   "outputs": [
    {
     "data": {
      "text/plain": [
       "{'n_estimators': 2}"
      ]
     },
     "execution_count": 46,
     "metadata": {},
     "output_type": "execute_result"
    }
   ],
   "source": [
    "tg = {\"n_estimators\":range(2,100,1)}   #for abdboost regression\n",
    "cv_tune(abc,tg)"
   ]
  },
  {
   "cell_type": "code",
   "execution_count": 47,
   "id": "90364acb",
   "metadata": {},
   "outputs": [
    {
     "data": {
      "text/plain": [
       "(0.825,\n",
       " 0.789,\n",
       " AdaBoostClassifier(base_estimator=DecisionTreeClassifier(max_depth=2,\n",
       "                                                          random_state=21),\n",
       "                    n_estimators=2, random_state=31))"
      ]
     },
     "execution_count": 47,
     "metadata": {},
     "output_type": "execute_result"
    }
   ],
   "source": [
    "ABC = AdaBoostClassifier(dtc_depth,n_estimators=2,random_state=31)\n",
    "model(ABC)"
   ]
  },
  {
   "cell_type": "code",
   "execution_count": 48,
   "id": "86b43652",
   "metadata": {},
   "outputs": [
    {
     "data": {
      "text/plain": [
       "{'n_neighbors': 16}"
      ]
     },
     "execution_count": 48,
     "metadata": {},
     "output_type": "execute_result"
    }
   ],
   "source": [
    "#for knn classification\n",
    "TG = {\"n_neighbors\":range(2,30,1)}\n",
    "cv_tune(knc,TG)"
   ]
  },
  {
   "cell_type": "code",
   "execution_count": 49,
   "id": "2d8fba83",
   "metadata": {},
   "outputs": [
    {
     "data": {
      "text/plain": [
       "(0.817, 0.789, KNeighborsClassifier(n_neighbors=16))"
      ]
     },
     "execution_count": 49,
     "metadata": {},
     "output_type": "execute_result"
    }
   ],
   "source": [
    "knc = KNeighborsClassifier(n_neighbors=16)\n",
    "model(knc)"
   ]
  },
  {
   "cell_type": "markdown",
   "id": "2df385ac",
   "metadata": {},
   "source": [
    "# Data Preparation for test Data"
   ]
  },
  {
   "cell_type": "code",
   "execution_count": 50,
   "id": "9467acf4",
   "metadata": {},
   "outputs": [],
   "source": [
    "Test = pd.read_csv(\"C:/Users/AYUSH/Desktop/Dataset/Loan Project/testing_set.csv\")"
   ]
  },
  {
   "cell_type": "code",
   "execution_count": 51,
   "id": "ed0c9352",
   "metadata": {},
   "outputs": [
    {
     "data": {
      "text/html": [
       "<div>\n",
       "<style scoped>\n",
       "    .dataframe tbody tr th:only-of-type {\n",
       "        vertical-align: middle;\n",
       "    }\n",
       "\n",
       "    .dataframe tbody tr th {\n",
       "        vertical-align: top;\n",
       "    }\n",
       "\n",
       "    .dataframe thead th {\n",
       "        text-align: right;\n",
       "    }\n",
       "</style>\n",
       "<table border=\"1\" class=\"dataframe\">\n",
       "  <thead>\n",
       "    <tr style=\"text-align: right;\">\n",
       "      <th></th>\n",
       "      <th>Loan_ID</th>\n",
       "      <th>Gender</th>\n",
       "      <th>Married</th>\n",
       "      <th>Dependents</th>\n",
       "      <th>Education</th>\n",
       "      <th>Self_Employed</th>\n",
       "      <th>ApplicantIncome</th>\n",
       "      <th>CoapplicantIncome</th>\n",
       "      <th>LoanAmount</th>\n",
       "      <th>Loan_Amount_Term</th>\n",
       "      <th>Credit_History</th>\n",
       "      <th>Property_Area</th>\n",
       "    </tr>\n",
       "  </thead>\n",
       "  <tbody>\n",
       "    <tr>\n",
       "      <th>0</th>\n",
       "      <td>LP001015</td>\n",
       "      <td>Male</td>\n",
       "      <td>Yes</td>\n",
       "      <td>0</td>\n",
       "      <td>Graduate</td>\n",
       "      <td>No</td>\n",
       "      <td>5720</td>\n",
       "      <td>0</td>\n",
       "      <td>110.0</td>\n",
       "      <td>360.0</td>\n",
       "      <td>1.0</td>\n",
       "      <td>Urban</td>\n",
       "    </tr>\n",
       "    <tr>\n",
       "      <th>1</th>\n",
       "      <td>LP001022</td>\n",
       "      <td>Male</td>\n",
       "      <td>Yes</td>\n",
       "      <td>1</td>\n",
       "      <td>Graduate</td>\n",
       "      <td>No</td>\n",
       "      <td>3076</td>\n",
       "      <td>1500</td>\n",
       "      <td>126.0</td>\n",
       "      <td>360.0</td>\n",
       "      <td>1.0</td>\n",
       "      <td>Urban</td>\n",
       "    </tr>\n",
       "    <tr>\n",
       "      <th>2</th>\n",
       "      <td>LP001031</td>\n",
       "      <td>Male</td>\n",
       "      <td>Yes</td>\n",
       "      <td>2</td>\n",
       "      <td>Graduate</td>\n",
       "      <td>No</td>\n",
       "      <td>5000</td>\n",
       "      <td>1800</td>\n",
       "      <td>208.0</td>\n",
       "      <td>360.0</td>\n",
       "      <td>1.0</td>\n",
       "      <td>Urban</td>\n",
       "    </tr>\n",
       "    <tr>\n",
       "      <th>3</th>\n",
       "      <td>LP001035</td>\n",
       "      <td>Male</td>\n",
       "      <td>Yes</td>\n",
       "      <td>2</td>\n",
       "      <td>Graduate</td>\n",
       "      <td>No</td>\n",
       "      <td>2340</td>\n",
       "      <td>2546</td>\n",
       "      <td>100.0</td>\n",
       "      <td>360.0</td>\n",
       "      <td>NaN</td>\n",
       "      <td>Urban</td>\n",
       "    </tr>\n",
       "    <tr>\n",
       "      <th>4</th>\n",
       "      <td>LP001051</td>\n",
       "      <td>Male</td>\n",
       "      <td>No</td>\n",
       "      <td>0</td>\n",
       "      <td>Not Graduate</td>\n",
       "      <td>No</td>\n",
       "      <td>3276</td>\n",
       "      <td>0</td>\n",
       "      <td>78.0</td>\n",
       "      <td>360.0</td>\n",
       "      <td>1.0</td>\n",
       "      <td>Urban</td>\n",
       "    </tr>\n",
       "  </tbody>\n",
       "</table>\n",
       "</div>"
      ],
      "text/plain": [
       "    Loan_ID Gender Married Dependents     Education Self_Employed  \\\n",
       "0  LP001015   Male     Yes          0      Graduate            No   \n",
       "1  LP001022   Male     Yes          1      Graduate            No   \n",
       "2  LP001031   Male     Yes          2      Graduate            No   \n",
       "3  LP001035   Male     Yes          2      Graduate            No   \n",
       "4  LP001051   Male      No          0  Not Graduate            No   \n",
       "\n",
       "   ApplicantIncome  CoapplicantIncome  LoanAmount  Loan_Amount_Term  \\\n",
       "0             5720                  0       110.0             360.0   \n",
       "1             3076               1500       126.0             360.0   \n",
       "2             5000               1800       208.0             360.0   \n",
       "3             2340               2546       100.0             360.0   \n",
       "4             3276                  0        78.0             360.0   \n",
       "\n",
       "   Credit_History Property_Area  \n",
       "0             1.0         Urban  \n",
       "1             1.0         Urban  \n",
       "2             1.0         Urban  \n",
       "3             NaN         Urban  \n",
       "4             1.0         Urban  "
      ]
     },
     "execution_count": 51,
     "metadata": {},
     "output_type": "execute_result"
    }
   ],
   "source": [
    "Test.head()"
   ]
  },
  {
   "cell_type": "code",
   "execution_count": 52,
   "id": "d3cb5c62",
   "metadata": {},
   "outputs": [],
   "source": [
    "test = Test.drop(labels=[\"Loan_ID\"],axis=1)"
   ]
  },
  {
   "cell_type": "code",
   "execution_count": 53,
   "id": "3b94e6e7",
   "metadata": {},
   "outputs": [],
   "source": [
    "Replace_nan(test)"
   ]
  },
  {
   "cell_type": "code",
   "execution_count": 54,
   "id": "bca24f40",
   "metadata": {},
   "outputs": [],
   "source": [
    "T = preprocessing(test)"
   ]
  },
  {
   "cell_type": "code",
   "execution_count": 55,
   "id": "be129309",
   "metadata": {
    "scrolled": true
   },
   "outputs": [
    {
     "data": {
      "text/html": [
       "<div>\n",
       "<style scoped>\n",
       "    .dataframe tbody tr th:only-of-type {\n",
       "        vertical-align: middle;\n",
       "    }\n",
       "\n",
       "    .dataframe tbody tr th {\n",
       "        vertical-align: top;\n",
       "    }\n",
       "\n",
       "    .dataframe thead th {\n",
       "        text-align: right;\n",
       "    }\n",
       "</style>\n",
       "<table border=\"1\" class=\"dataframe\">\n",
       "  <thead>\n",
       "    <tr style=\"text-align: right;\">\n",
       "      <th></th>\n",
       "      <th>ApplicantIncome</th>\n",
       "      <th>CoapplicantIncome</th>\n",
       "      <th>LoanAmount</th>\n",
       "      <th>Loan_Amount_Term</th>\n",
       "      <th>Credit_History</th>\n",
       "      <th>Gender_Female</th>\n",
       "      <th>Gender_Male</th>\n",
       "      <th>Married_No</th>\n",
       "      <th>Married_Yes</th>\n",
       "      <th>Dependents_0</th>\n",
       "      <th>Dependents_1</th>\n",
       "      <th>Dependents_2</th>\n",
       "      <th>Dependents_3+</th>\n",
       "      <th>Education_Graduate</th>\n",
       "      <th>Education_Not Graduate</th>\n",
       "      <th>Self_Employed_No</th>\n",
       "      <th>Self_Employed_Yes</th>\n",
       "      <th>Property_Area_Rural</th>\n",
       "      <th>Property_Area_Semiurban</th>\n",
       "      <th>Property_Area_Urban</th>\n",
       "    </tr>\n",
       "  </thead>\n",
       "  <tbody>\n",
       "    <tr>\n",
       "      <th>0</th>\n",
       "      <td>0.186461</td>\n",
       "      <td>-0.673335</td>\n",
       "      <td>-0.429368</td>\n",
       "      <td>0.270603</td>\n",
       "      <td>0.479189</td>\n",
       "      <td>0</td>\n",
       "      <td>1</td>\n",
       "      <td>0</td>\n",
       "      <td>1</td>\n",
       "      <td>1</td>\n",
       "      <td>0</td>\n",
       "      <td>0</td>\n",
       "      <td>0</td>\n",
       "      <td>1</td>\n",
       "      <td>0</td>\n",
       "      <td>1</td>\n",
       "      <td>0</td>\n",
       "      <td>0</td>\n",
       "      <td>0</td>\n",
       "      <td>1</td>\n",
       "    </tr>\n",
       "    <tr>\n",
       "      <th>1</th>\n",
       "      <td>-0.352692</td>\n",
       "      <td>-0.029848</td>\n",
       "      <td>-0.166482</td>\n",
       "      <td>0.270603</td>\n",
       "      <td>0.479189</td>\n",
       "      <td>0</td>\n",
       "      <td>1</td>\n",
       "      <td>0</td>\n",
       "      <td>1</td>\n",
       "      <td>0</td>\n",
       "      <td>1</td>\n",
       "      <td>0</td>\n",
       "      <td>0</td>\n",
       "      <td>1</td>\n",
       "      <td>0</td>\n",
       "      <td>1</td>\n",
       "      <td>0</td>\n",
       "      <td>0</td>\n",
       "      <td>0</td>\n",
       "      <td>1</td>\n",
       "    </tr>\n",
       "    <tr>\n",
       "      <th>2</th>\n",
       "      <td>0.039641</td>\n",
       "      <td>0.098849</td>\n",
       "      <td>1.180807</td>\n",
       "      <td>0.270603</td>\n",
       "      <td>0.479189</td>\n",
       "      <td>0</td>\n",
       "      <td>1</td>\n",
       "      <td>0</td>\n",
       "      <td>1</td>\n",
       "      <td>0</td>\n",
       "      <td>0</td>\n",
       "      <td>1</td>\n",
       "      <td>0</td>\n",
       "      <td>1</td>\n",
       "      <td>0</td>\n",
       "      <td>1</td>\n",
       "      <td>0</td>\n",
       "      <td>0</td>\n",
       "      <td>0</td>\n",
       "      <td>1</td>\n",
       "    </tr>\n",
       "    <tr>\n",
       "      <th>3</th>\n",
       "      <td>-0.502774</td>\n",
       "      <td>0.418877</td>\n",
       "      <td>-0.593671</td>\n",
       "      <td>0.270603</td>\n",
       "      <td>-0.000111</td>\n",
       "      <td>0</td>\n",
       "      <td>1</td>\n",
       "      <td>0</td>\n",
       "      <td>1</td>\n",
       "      <td>0</td>\n",
       "      <td>0</td>\n",
       "      <td>1</td>\n",
       "      <td>0</td>\n",
       "      <td>1</td>\n",
       "      <td>0</td>\n",
       "      <td>1</td>\n",
       "      <td>0</td>\n",
       "      <td>0</td>\n",
       "      <td>0</td>\n",
       "      <td>1</td>\n",
       "    </tr>\n",
       "    <tr>\n",
       "      <th>4</th>\n",
       "      <td>-0.311909</td>\n",
       "      <td>-0.673335</td>\n",
       "      <td>-0.955139</td>\n",
       "      <td>0.270603</td>\n",
       "      <td>0.479189</td>\n",
       "      <td>0</td>\n",
       "      <td>1</td>\n",
       "      <td>1</td>\n",
       "      <td>0</td>\n",
       "      <td>1</td>\n",
       "      <td>0</td>\n",
       "      <td>0</td>\n",
       "      <td>0</td>\n",
       "      <td>0</td>\n",
       "      <td>1</td>\n",
       "      <td>1</td>\n",
       "      <td>0</td>\n",
       "      <td>0</td>\n",
       "      <td>0</td>\n",
       "      <td>1</td>\n",
       "    </tr>\n",
       "  </tbody>\n",
       "</table>\n",
       "</div>"
      ],
      "text/plain": [
       "   ApplicantIncome  CoapplicantIncome  LoanAmount  Loan_Amount_Term  \\\n",
       "0         0.186461          -0.673335   -0.429368          0.270603   \n",
       "1        -0.352692          -0.029848   -0.166482          0.270603   \n",
       "2         0.039641           0.098849    1.180807          0.270603   \n",
       "3        -0.502774           0.418877   -0.593671          0.270603   \n",
       "4        -0.311909          -0.673335   -0.955139          0.270603   \n",
       "\n",
       "   Credit_History  Gender_Female  Gender_Male  Married_No  Married_Yes  \\\n",
       "0        0.479189              0            1           0            1   \n",
       "1        0.479189              0            1           0            1   \n",
       "2        0.479189              0            1           0            1   \n",
       "3       -0.000111              0            1           0            1   \n",
       "4        0.479189              0            1           1            0   \n",
       "\n",
       "   Dependents_0  Dependents_1  Dependents_2  Dependents_3+  \\\n",
       "0             1             0             0              0   \n",
       "1             0             1             0              0   \n",
       "2             0             0             1              0   \n",
       "3             0             0             1              0   \n",
       "4             1             0             0              0   \n",
       "\n",
       "   Education_Graduate  Education_Not Graduate  Self_Employed_No  \\\n",
       "0                   1                       0                 1   \n",
       "1                   1                       0                 1   \n",
       "2                   1                       0                 1   \n",
       "3                   1                       0                 1   \n",
       "4                   0                       1                 1   \n",
       "\n",
       "   Self_Employed_Yes  Property_Area_Rural  Property_Area_Semiurban  \\\n",
       "0                  0                    0                        0   \n",
       "1                  0                    0                        0   \n",
       "2                  0                    0                        0   \n",
       "3                  0                    0                        0   \n",
       "4                  0                    0                        0   \n",
       "\n",
       "   Property_Area_Urban  \n",
       "0                    1  \n",
       "1                    1  \n",
       "2                    1  \n",
       "3                    1  \n",
       "4                    1  "
      ]
     },
     "execution_count": 55,
     "metadata": {},
     "output_type": "execute_result"
    }
   ],
   "source": [
    "T.head()"
   ]
  },
  {
   "cell_type": "markdown",
   "id": "82de5ff8",
   "metadata": {},
   "source": [
    "# Use logistic regression model to predict loan status"
   ]
  },
  {
   "cell_type": "code",
   "execution_count": 56,
   "id": "36bc45ee",
   "metadata": {},
   "outputs": [],
   "source": [
    "lr = LogisticRegression()\n",
    "model = lr.fit(xtrain,ytrain)"
   ]
  },
  {
   "cell_type": "code",
   "execution_count": 57,
   "id": "957e74f3",
   "metadata": {},
   "outputs": [],
   "source": [
    "pred=model.predict(T)"
   ]
  },
  {
   "cell_type": "code",
   "execution_count": 58,
   "id": "2983dbcf",
   "metadata": {},
   "outputs": [],
   "source": [
    "Test[\"Predicted_Loan_Status\"] = le.inverse_transform(pred)"
   ]
  },
  {
   "cell_type": "code",
   "execution_count": 59,
   "id": "b96e2403",
   "metadata": {},
   "outputs": [
    {
     "data": {
      "text/html": [
       "<div>\n",
       "<style scoped>\n",
       "    .dataframe tbody tr th:only-of-type {\n",
       "        vertical-align: middle;\n",
       "    }\n",
       "\n",
       "    .dataframe tbody tr th {\n",
       "        vertical-align: top;\n",
       "    }\n",
       "\n",
       "    .dataframe thead th {\n",
       "        text-align: right;\n",
       "    }\n",
       "</style>\n",
       "<table border=\"1\" class=\"dataframe\">\n",
       "  <thead>\n",
       "    <tr style=\"text-align: right;\">\n",
       "      <th></th>\n",
       "      <th>Loan_ID</th>\n",
       "      <th>Gender</th>\n",
       "      <th>Married</th>\n",
       "      <th>Dependents</th>\n",
       "      <th>Education</th>\n",
       "      <th>Self_Employed</th>\n",
       "      <th>ApplicantIncome</th>\n",
       "      <th>CoapplicantIncome</th>\n",
       "      <th>LoanAmount</th>\n",
       "      <th>Loan_Amount_Term</th>\n",
       "      <th>Credit_History</th>\n",
       "      <th>Property_Area</th>\n",
       "      <th>Predicted_Loan_Status</th>\n",
       "    </tr>\n",
       "  </thead>\n",
       "  <tbody>\n",
       "    <tr>\n",
       "      <th>0</th>\n",
       "      <td>LP001015</td>\n",
       "      <td>Male</td>\n",
       "      <td>Yes</td>\n",
       "      <td>0</td>\n",
       "      <td>Graduate</td>\n",
       "      <td>No</td>\n",
       "      <td>5720</td>\n",
       "      <td>0</td>\n",
       "      <td>110.0</td>\n",
       "      <td>360.0</td>\n",
       "      <td>1.0</td>\n",
       "      <td>Urban</td>\n",
       "      <td>N</td>\n",
       "    </tr>\n",
       "    <tr>\n",
       "      <th>1</th>\n",
       "      <td>LP001022</td>\n",
       "      <td>Male</td>\n",
       "      <td>Yes</td>\n",
       "      <td>1</td>\n",
       "      <td>Graduate</td>\n",
       "      <td>No</td>\n",
       "      <td>3076</td>\n",
       "      <td>1500</td>\n",
       "      <td>126.0</td>\n",
       "      <td>360.0</td>\n",
       "      <td>1.0</td>\n",
       "      <td>Urban</td>\n",
       "      <td>Y</td>\n",
       "    </tr>\n",
       "    <tr>\n",
       "      <th>2</th>\n",
       "      <td>LP001031</td>\n",
       "      <td>Male</td>\n",
       "      <td>Yes</td>\n",
       "      <td>2</td>\n",
       "      <td>Graduate</td>\n",
       "      <td>No</td>\n",
       "      <td>5000</td>\n",
       "      <td>1800</td>\n",
       "      <td>208.0</td>\n",
       "      <td>360.0</td>\n",
       "      <td>1.0</td>\n",
       "      <td>Urban</td>\n",
       "      <td>Y</td>\n",
       "    </tr>\n",
       "  </tbody>\n",
       "</table>\n",
       "</div>"
      ],
      "text/plain": [
       "    Loan_ID Gender Married Dependents Education Self_Employed  \\\n",
       "0  LP001015   Male     Yes          0  Graduate            No   \n",
       "1  LP001022   Male     Yes          1  Graduate            No   \n",
       "2  LP001031   Male     Yes          2  Graduate            No   \n",
       "\n",
       "   ApplicantIncome  CoapplicantIncome  LoanAmount  Loan_Amount_Term  \\\n",
       "0             5720                  0       110.0             360.0   \n",
       "1             3076               1500       126.0             360.0   \n",
       "2             5000               1800       208.0             360.0   \n",
       "\n",
       "   Credit_History Property_Area Predicted_Loan_Status  \n",
       "0             1.0         Urban                     N  \n",
       "1             1.0         Urban                     Y  \n",
       "2             1.0         Urban                     Y  "
      ]
     },
     "execution_count": 59,
     "metadata": {},
     "output_type": "execute_result"
    }
   ],
   "source": [
    "Test.head(3)"
   ]
  },
  {
   "cell_type": "code",
   "execution_count": 60,
   "id": "c003976a",
   "metadata": {},
   "outputs": [
    {
     "data": {
      "text/html": [
       "<div>\n",
       "<style scoped>\n",
       "    .dataframe tbody tr th:only-of-type {\n",
       "        vertical-align: middle;\n",
       "    }\n",
       "\n",
       "    .dataframe tbody tr th {\n",
       "        vertical-align: top;\n",
       "    }\n",
       "\n",
       "    .dataframe thead th {\n",
       "        text-align: right;\n",
       "    }\n",
       "</style>\n",
       "<table border=\"1\" class=\"dataframe\">\n",
       "  <thead>\n",
       "    <tr style=\"text-align: right;\">\n",
       "      <th></th>\n",
       "      <th>Loan_ID</th>\n",
       "      <th>Gender</th>\n",
       "      <th>Married</th>\n",
       "      <th>Dependents</th>\n",
       "      <th>Education</th>\n",
       "      <th>Self_Employed</th>\n",
       "      <th>ApplicantIncome</th>\n",
       "      <th>CoapplicantIncome</th>\n",
       "      <th>LoanAmount</th>\n",
       "      <th>Loan_Amount_Term</th>\n",
       "      <th>Credit_History</th>\n",
       "      <th>Property_Area</th>\n",
       "      <th>Predicted_Loan_Status</th>\n",
       "    </tr>\n",
       "  </thead>\n",
       "  <tbody>\n",
       "    <tr>\n",
       "      <th>362</th>\n",
       "      <td>LP002971</td>\n",
       "      <td>Male</td>\n",
       "      <td>Yes</td>\n",
       "      <td>3+</td>\n",
       "      <td>Not Graduate</td>\n",
       "      <td>Yes</td>\n",
       "      <td>4009</td>\n",
       "      <td>1777</td>\n",
       "      <td>113.0</td>\n",
       "      <td>360.0</td>\n",
       "      <td>1.0</td>\n",
       "      <td>Urban</td>\n",
       "      <td>Y</td>\n",
       "    </tr>\n",
       "    <tr>\n",
       "      <th>363</th>\n",
       "      <td>LP002975</td>\n",
       "      <td>Male</td>\n",
       "      <td>Yes</td>\n",
       "      <td>0</td>\n",
       "      <td>Graduate</td>\n",
       "      <td>No</td>\n",
       "      <td>4158</td>\n",
       "      <td>709</td>\n",
       "      <td>115.0</td>\n",
       "      <td>360.0</td>\n",
       "      <td>1.0</td>\n",
       "      <td>Urban</td>\n",
       "      <td>Y</td>\n",
       "    </tr>\n",
       "    <tr>\n",
       "      <th>364</th>\n",
       "      <td>LP002980</td>\n",
       "      <td>Male</td>\n",
       "      <td>No</td>\n",
       "      <td>0</td>\n",
       "      <td>Graduate</td>\n",
       "      <td>No</td>\n",
       "      <td>3250</td>\n",
       "      <td>1993</td>\n",
       "      <td>126.0</td>\n",
       "      <td>360.0</td>\n",
       "      <td>NaN</td>\n",
       "      <td>Semiurban</td>\n",
       "      <td>Y</td>\n",
       "    </tr>\n",
       "    <tr>\n",
       "      <th>365</th>\n",
       "      <td>LP002986</td>\n",
       "      <td>Male</td>\n",
       "      <td>Yes</td>\n",
       "      <td>0</td>\n",
       "      <td>Graduate</td>\n",
       "      <td>No</td>\n",
       "      <td>5000</td>\n",
       "      <td>2393</td>\n",
       "      <td>158.0</td>\n",
       "      <td>360.0</td>\n",
       "      <td>1.0</td>\n",
       "      <td>Rural</td>\n",
       "      <td>Y</td>\n",
       "    </tr>\n",
       "    <tr>\n",
       "      <th>366</th>\n",
       "      <td>LP002989</td>\n",
       "      <td>Male</td>\n",
       "      <td>No</td>\n",
       "      <td>0</td>\n",
       "      <td>Graduate</td>\n",
       "      <td>Yes</td>\n",
       "      <td>9200</td>\n",
       "      <td>0</td>\n",
       "      <td>98.0</td>\n",
       "      <td>180.0</td>\n",
       "      <td>1.0</td>\n",
       "      <td>Rural</td>\n",
       "      <td>N</td>\n",
       "    </tr>\n",
       "  </tbody>\n",
       "</table>\n",
       "</div>"
      ],
      "text/plain": [
       "      Loan_ID Gender Married Dependents     Education Self_Employed  \\\n",
       "362  LP002971   Male     Yes         3+  Not Graduate           Yes   \n",
       "363  LP002975   Male     Yes          0      Graduate            No   \n",
       "364  LP002980   Male      No          0      Graduate            No   \n",
       "365  LP002986   Male     Yes          0      Graduate            No   \n",
       "366  LP002989   Male      No          0      Graduate           Yes   \n",
       "\n",
       "     ApplicantIncome  CoapplicantIncome  LoanAmount  Loan_Amount_Term  \\\n",
       "362             4009               1777       113.0             360.0   \n",
       "363             4158                709       115.0             360.0   \n",
       "364             3250               1993       126.0             360.0   \n",
       "365             5000               2393       158.0             360.0   \n",
       "366             9200                  0        98.0             180.0   \n",
       "\n",
       "     Credit_History Property_Area Predicted_Loan_Status  \n",
       "362             1.0         Urban                     Y  \n",
       "363             1.0         Urban                     Y  \n",
       "364             NaN     Semiurban                     Y  \n",
       "365             1.0         Rural                     Y  \n",
       "366             1.0         Rural                     N  "
      ]
     },
     "execution_count": 60,
     "metadata": {},
     "output_type": "execute_result"
    }
   ],
   "source": [
    "Test.tail()"
   ]
  },
  {
   "cell_type": "markdown",
   "id": "7ae6a680",
   "metadata": {},
   "source": [
    "# Problem_Statment 2: People whose loan got rejected, find loan amount he can get approve the loan"
   ]
  },
  {
   "cell_type": "markdown",
   "id": "5fa4be7e",
   "metadata": {},
   "source": [
    "Find out whose loan got rejected from test data"
   ]
  },
  {
   "cell_type": "code",
   "execution_count": 61,
   "id": "ca3a8647",
   "metadata": {},
   "outputs": [],
   "source": [
    "rejects = Test[Test.Predicted_Loan_Status == \"N\"]"
   ]
  },
  {
   "cell_type": "code",
   "execution_count": 62,
   "id": "cda6184a",
   "metadata": {},
   "outputs": [
    {
     "data": {
      "text/html": [
       "<div>\n",
       "<style scoped>\n",
       "    .dataframe tbody tr th:only-of-type {\n",
       "        vertical-align: middle;\n",
       "    }\n",
       "\n",
       "    .dataframe tbody tr th {\n",
       "        vertical-align: top;\n",
       "    }\n",
       "\n",
       "    .dataframe thead th {\n",
       "        text-align: right;\n",
       "    }\n",
       "</style>\n",
       "<table border=\"1\" class=\"dataframe\">\n",
       "  <thead>\n",
       "    <tr style=\"text-align: right;\">\n",
       "      <th></th>\n",
       "      <th>Loan_ID</th>\n",
       "      <th>Gender</th>\n",
       "      <th>Married</th>\n",
       "      <th>Dependents</th>\n",
       "      <th>Education</th>\n",
       "      <th>Self_Employed</th>\n",
       "      <th>ApplicantIncome</th>\n",
       "      <th>CoapplicantIncome</th>\n",
       "      <th>LoanAmount</th>\n",
       "      <th>Loan_Amount_Term</th>\n",
       "      <th>Credit_History</th>\n",
       "      <th>Property_Area</th>\n",
       "      <th>Predicted_Loan_Status</th>\n",
       "    </tr>\n",
       "  </thead>\n",
       "  <tbody>\n",
       "    <tr>\n",
       "      <th>0</th>\n",
       "      <td>LP001015</td>\n",
       "      <td>Male</td>\n",
       "      <td>Yes</td>\n",
       "      <td>0</td>\n",
       "      <td>Graduate</td>\n",
       "      <td>No</td>\n",
       "      <td>5720</td>\n",
       "      <td>0</td>\n",
       "      <td>110.0</td>\n",
       "      <td>360.0</td>\n",
       "      <td>1.0</td>\n",
       "      <td>Urban</td>\n",
       "      <td>N</td>\n",
       "    </tr>\n",
       "    <tr>\n",
       "      <th>4</th>\n",
       "      <td>LP001051</td>\n",
       "      <td>Male</td>\n",
       "      <td>No</td>\n",
       "      <td>0</td>\n",
       "      <td>Not Graduate</td>\n",
       "      <td>No</td>\n",
       "      <td>3276</td>\n",
       "      <td>0</td>\n",
       "      <td>78.0</td>\n",
       "      <td>360.0</td>\n",
       "      <td>1.0</td>\n",
       "      <td>Urban</td>\n",
       "      <td>N</td>\n",
       "    </tr>\n",
       "    <tr>\n",
       "      <th>6</th>\n",
       "      <td>LP001055</td>\n",
       "      <td>Female</td>\n",
       "      <td>No</td>\n",
       "      <td>1</td>\n",
       "      <td>Not Graduate</td>\n",
       "      <td>No</td>\n",
       "      <td>2226</td>\n",
       "      <td>0</td>\n",
       "      <td>59.0</td>\n",
       "      <td>360.0</td>\n",
       "      <td>1.0</td>\n",
       "      <td>Semiurban</td>\n",
       "      <td>N</td>\n",
       "    </tr>\n",
       "    <tr>\n",
       "      <th>10</th>\n",
       "      <td>LP001078</td>\n",
       "      <td>Male</td>\n",
       "      <td>No</td>\n",
       "      <td>0</td>\n",
       "      <td>Not Graduate</td>\n",
       "      <td>No</td>\n",
       "      <td>3091</td>\n",
       "      <td>0</td>\n",
       "      <td>90.0</td>\n",
       "      <td>360.0</td>\n",
       "      <td>1.0</td>\n",
       "      <td>Urban</td>\n",
       "      <td>N</td>\n",
       "    </tr>\n",
       "    <tr>\n",
       "      <th>12</th>\n",
       "      <td>LP001083</td>\n",
       "      <td>Male</td>\n",
       "      <td>No</td>\n",
       "      <td>3+</td>\n",
       "      <td>Graduate</td>\n",
       "      <td>No</td>\n",
       "      <td>4166</td>\n",
       "      <td>0</td>\n",
       "      <td>40.0</td>\n",
       "      <td>180.0</td>\n",
       "      <td>NaN</td>\n",
       "      <td>Urban</td>\n",
       "      <td>N</td>\n",
       "    </tr>\n",
       "  </tbody>\n",
       "</table>\n",
       "</div>"
      ],
      "text/plain": [
       "     Loan_ID  Gender Married Dependents     Education Self_Employed  \\\n",
       "0   LP001015    Male     Yes          0      Graduate            No   \n",
       "4   LP001051    Male      No          0  Not Graduate            No   \n",
       "6   LP001055  Female      No          1  Not Graduate            No   \n",
       "10  LP001078    Male      No          0  Not Graduate            No   \n",
       "12  LP001083    Male      No         3+      Graduate            No   \n",
       "\n",
       "    ApplicantIncome  CoapplicantIncome  LoanAmount  Loan_Amount_Term  \\\n",
       "0              5720                  0       110.0             360.0   \n",
       "4              3276                  0        78.0             360.0   \n",
       "6              2226                  0        59.0             360.0   \n",
       "10             3091                  0        90.0             360.0   \n",
       "12             4166                  0        40.0             180.0   \n",
       "\n",
       "    Credit_History Property_Area Predicted_Loan_Status  \n",
       "0              1.0         Urban                     N  \n",
       "4              1.0         Urban                     N  \n",
       "6              1.0     Semiurban                     N  \n",
       "10             1.0         Urban                     N  \n",
       "12             NaN         Urban                     N  "
      ]
     },
     "execution_count": 62,
     "metadata": {},
     "output_type": "execute_result"
    }
   ],
   "source": [
    "rejects.head()"
   ]
  },
  {
   "cell_type": "markdown",
   "id": "4beac87a",
   "metadata": {},
   "source": [
    "# Prepare training Data"
   ]
  },
  {
   "cell_type": "code",
   "execution_count": 63,
   "id": "7b9a8952",
   "metadata": {},
   "outputs": [],
   "source": [
    "T1 = Test[Test.Predicted_Loan_Status == \"Y\"]\n",
    "T2 = train[train.Loan_Status == \"Y\"]"
   ]
  },
  {
   "cell_type": "code",
   "execution_count": 64,
   "id": "bbf7e58a",
   "metadata": {},
   "outputs": [
    {
     "data": {
      "text/plain": [
       "(265, 13)"
      ]
     },
     "execution_count": 64,
     "metadata": {},
     "output_type": "execute_result"
    }
   ],
   "source": [
    "T1.shape"
   ]
  },
  {
   "cell_type": "code",
   "execution_count": 65,
   "id": "9426f6e2",
   "metadata": {},
   "outputs": [
    {
     "data": {
      "text/plain": [
       "(422, 12)"
      ]
     },
     "execution_count": 65,
     "metadata": {},
     "output_type": "execute_result"
    }
   ],
   "source": [
    "T2.shape"
   ]
  },
  {
   "cell_type": "code",
   "execution_count": 66,
   "id": "8b1d3e49",
   "metadata": {},
   "outputs": [
    {
     "data": {
      "text/plain": [
       "Index(['Loan_ID', 'Gender', 'Married', 'Dependents', 'Education',\n",
       "       'Self_Employed', 'ApplicantIncome', 'CoapplicantIncome', 'LoanAmount',\n",
       "       'Loan_Amount_Term', 'Credit_History', 'Property_Area',\n",
       "       'Predicted_Loan_Status'],\n",
       "      dtype='object')"
      ]
     },
     "execution_count": 66,
     "metadata": {},
     "output_type": "execute_result"
    }
   ],
   "source": [
    "T1.columns"
   ]
  },
  {
   "cell_type": "code",
   "execution_count": 67,
   "id": "3f648f43",
   "metadata": {},
   "outputs": [
    {
     "data": {
      "text/plain": [
       "Index(['Gender', 'Married', 'Dependents', 'Education', 'Self_Employed',\n",
       "       'ApplicantIncome', 'CoapplicantIncome', 'LoanAmount',\n",
       "       'Loan_Amount_Term', 'Credit_History', 'Property_Area', 'Loan_Status'],\n",
       "      dtype='object')"
      ]
     },
     "execution_count": 67,
     "metadata": {},
     "output_type": "execute_result"
    }
   ],
   "source": [
    "T2.columns"
   ]
  },
  {
   "cell_type": "code",
   "execution_count": 68,
   "id": "4fbb7991",
   "metadata": {},
   "outputs": [],
   "source": [
    "T1 = T1.drop(labels=\"Loan_ID\",axis=1)"
   ]
  },
  {
   "cell_type": "code",
   "execution_count": 69,
   "id": "f0af364e",
   "metadata": {},
   "outputs": [],
   "source": [
    "T1.columns = T2.columns"
   ]
  },
  {
   "cell_type": "code",
   "execution_count": 70,
   "id": "c7572596",
   "metadata": {},
   "outputs": [],
   "source": [
    "Xnew = pd.concat([T1,T2])"
   ]
  },
  {
   "cell_type": "code",
   "execution_count": 71,
   "id": "29be20fe",
   "metadata": {},
   "outputs": [
    {
     "data": {
      "text/plain": [
       "(687, 12)"
      ]
     },
     "execution_count": 71,
     "metadata": {},
     "output_type": "execute_result"
    }
   ],
   "source": [
    "Xnew.shape"
   ]
  },
  {
   "cell_type": "code",
   "execution_count": 72,
   "id": "5c6b8943",
   "metadata": {},
   "outputs": [],
   "source": [
    "Xnew.index = range(0,687,1)"
   ]
  },
  {
   "cell_type": "code",
   "execution_count": 73,
   "id": "f354c3f4",
   "metadata": {},
   "outputs": [
    {
     "data": {
      "text/plain": [
       "Gender                7\n",
       "Married               0\n",
       "Dependents            7\n",
       "Education             0\n",
       "Self_Employed        20\n",
       "ApplicantIncome       0\n",
       "CoapplicantIncome     0\n",
       "LoanAmount            4\n",
       "Loan_Amount_Term      6\n",
       "Credit_History       23\n",
       "Property_Area         0\n",
       "Loan_Status           0\n",
       "dtype: int64"
      ]
     },
     "execution_count": 73,
     "metadata": {},
     "output_type": "execute_result"
    }
   ],
   "source": [
    "Xnew.isna().sum()"
   ]
  },
  {
   "cell_type": "code",
   "execution_count": 74,
   "id": "a4d089d6",
   "metadata": {},
   "outputs": [],
   "source": [
    "Replace_nan(Xnew)"
   ]
  },
  {
   "cell_type": "code",
   "execution_count": 75,
   "id": "82036513",
   "metadata": {},
   "outputs": [],
   "source": [
    "Y = Xnew[[\"LoanAmount\"]]\n",
    "X = Xnew.drop(labels=[\"LoanAmount\"],axis=1)"
   ]
  },
  {
   "cell_type": "code",
   "execution_count": 76,
   "id": "6e3bdb52",
   "metadata": {},
   "outputs": [],
   "source": [
    "X =preprocessing(X)"
   ]
  },
  {
   "cell_type": "code",
   "execution_count": 77,
   "id": "029bc272",
   "metadata": {},
   "outputs": [
    {
     "data": {
      "text/html": [
       "<div>\n",
       "<style scoped>\n",
       "    .dataframe tbody tr th:only-of-type {\n",
       "        vertical-align: middle;\n",
       "    }\n",
       "\n",
       "    .dataframe tbody tr th {\n",
       "        vertical-align: top;\n",
       "    }\n",
       "\n",
       "    .dataframe thead th {\n",
       "        text-align: right;\n",
       "    }\n",
       "</style>\n",
       "<table border=\"1\" class=\"dataframe\">\n",
       "  <thead>\n",
       "    <tr style=\"text-align: right;\">\n",
       "      <th></th>\n",
       "      <th>ApplicantIncome</th>\n",
       "      <th>CoapplicantIncome</th>\n",
       "      <th>Loan_Amount_Term</th>\n",
       "      <th>Credit_History</th>\n",
       "      <th>Gender_Female</th>\n",
       "      <th>Gender_Male</th>\n",
       "      <th>Married_No</th>\n",
       "      <th>Married_Yes</th>\n",
       "      <th>Dependents_0</th>\n",
       "      <th>Dependents_1</th>\n",
       "      <th>Dependents_2</th>\n",
       "      <th>Dependents_3+</th>\n",
       "      <th>Education_Graduate</th>\n",
       "      <th>Education_Not Graduate</th>\n",
       "      <th>Self_Employed_No</th>\n",
       "      <th>Self_Employed_Yes</th>\n",
       "      <th>Property_Area_Rural</th>\n",
       "      <th>Property_Area_Semiurban</th>\n",
       "      <th>Property_Area_Urban</th>\n",
       "      <th>Loan_Status_Y</th>\n",
       "    </tr>\n",
       "  </thead>\n",
       "  <tbody>\n",
       "    <tr>\n",
       "      <th>0</th>\n",
       "      <td>-0.370774</td>\n",
       "      <td>-0.107314</td>\n",
       "      <td>0.250322</td>\n",
       "      <td>0.368719</td>\n",
       "      <td>0</td>\n",
       "      <td>1</td>\n",
       "      <td>0</td>\n",
       "      <td>1</td>\n",
       "      <td>0</td>\n",
       "      <td>1</td>\n",
       "      <td>0</td>\n",
       "      <td>0</td>\n",
       "      <td>1</td>\n",
       "      <td>0</td>\n",
       "      <td>1</td>\n",
       "      <td>0</td>\n",
       "      <td>0</td>\n",
       "      <td>0</td>\n",
       "      <td>1</td>\n",
       "      <td>1</td>\n",
       "    </tr>\n",
       "    <tr>\n",
       "      <th>1</th>\n",
       "      <td>-0.031733</td>\n",
       "      <td>0.029419</td>\n",
       "      <td>0.250322</td>\n",
       "      <td>0.368719</td>\n",
       "      <td>0</td>\n",
       "      <td>1</td>\n",
       "      <td>0</td>\n",
       "      <td>1</td>\n",
       "      <td>0</td>\n",
       "      <td>0</td>\n",
       "      <td>1</td>\n",
       "      <td>0</td>\n",
       "      <td>1</td>\n",
       "      <td>0</td>\n",
       "      <td>1</td>\n",
       "      <td>0</td>\n",
       "      <td>0</td>\n",
       "      <td>0</td>\n",
       "      <td>1</td>\n",
       "      <td>1</td>\n",
       "    </tr>\n",
       "    <tr>\n",
       "      <th>2</th>\n",
       "      <td>-0.500469</td>\n",
       "      <td>0.369429</td>\n",
       "      <td>0.250322</td>\n",
       "      <td>-0.000031</td>\n",
       "      <td>0</td>\n",
       "      <td>1</td>\n",
       "      <td>0</td>\n",
       "      <td>1</td>\n",
       "      <td>0</td>\n",
       "      <td>0</td>\n",
       "      <td>1</td>\n",
       "      <td>0</td>\n",
       "      <td>1</td>\n",
       "      <td>0</td>\n",
       "      <td>1</td>\n",
       "      <td>0</td>\n",
       "      <td>0</td>\n",
       "      <td>0</td>\n",
       "      <td>1</td>\n",
       "      <td>1</td>\n",
       "    </tr>\n",
       "  </tbody>\n",
       "</table>\n",
       "</div>"
      ],
      "text/plain": [
       "   ApplicantIncome  CoapplicantIncome  Loan_Amount_Term  Credit_History  \\\n",
       "0        -0.370774          -0.107314          0.250322        0.368719   \n",
       "1        -0.031733           0.029419          0.250322        0.368719   \n",
       "2        -0.500469           0.369429          0.250322       -0.000031   \n",
       "\n",
       "   Gender_Female  Gender_Male  Married_No  Married_Yes  Dependents_0  \\\n",
       "0              0            1           0            1             0   \n",
       "1              0            1           0            1             0   \n",
       "2              0            1           0            1             0   \n",
       "\n",
       "   Dependents_1  Dependents_2  Dependents_3+  Education_Graduate  \\\n",
       "0             1             0              0                   1   \n",
       "1             0             1              0                   1   \n",
       "2             0             1              0                   1   \n",
       "\n",
       "   Education_Not Graduate  Self_Employed_No  Self_Employed_Yes  \\\n",
       "0                       0                 1                  0   \n",
       "1                       0                 1                  0   \n",
       "2                       0                 1                  0   \n",
       "\n",
       "   Property_Area_Rural  Property_Area_Semiurban  Property_Area_Urban  \\\n",
       "0                    0                        0                    1   \n",
       "1                    0                        0                    1   \n",
       "2                    0                        0                    1   \n",
       "\n",
       "   Loan_Status_Y  \n",
       "0              1  \n",
       "1              1  \n",
       "2              1  "
      ]
     },
     "execution_count": 77,
     "metadata": {},
     "output_type": "execute_result"
    }
   ],
   "source": [
    "X.head(3)"
   ]
  },
  {
   "cell_type": "code",
   "execution_count": 78,
   "id": "fc4786b0",
   "metadata": {},
   "outputs": [],
   "source": [
    "x_train,x_test,y_train,y_test = train_test_split(X,Y,test_size=0.2,random_state=21)"
   ]
  },
  {
   "cell_type": "markdown",
   "id": "a25e48ee",
   "metadata": {},
   "source": [
    "# Regression Model\n",
    "\n",
    "    1. Random Forest Regressor\n",
    "    2. Decision Tree Regressor\n",
    "    3. Adaboost Regressor"
   ]
  },
  {
   "cell_type": "code",
   "execution_count": 79,
   "id": "9319f108",
   "metadata": {},
   "outputs": [],
   "source": [
    "from sklearn.ensemble import RandomForestRegressor\n",
    "from sklearn.tree import DecisionTreeRegressor\n",
    "from sklearn.ensemble import AdaBoostRegressor"
   ]
  },
  {
   "cell_type": "code",
   "execution_count": 80,
   "id": "127d0ca4",
   "metadata": {},
   "outputs": [],
   "source": [
    "def Model_Reg(mobj):\n",
    "    model = mobj.fit(x_train,y_train)\n",
    "    from sklearn.metrics import mean_absolute_error\n",
    "    tr_pred = model.predict(x_train)\n",
    "    tr_err = round(mean_absolute_error(y_train,tr_pred),4)\n",
    "    ts_pred = model.predict(x_test)\n",
    "    ts_err = round(mean_absolute_error(y_test,ts_pred),4)\n",
    "    return tr_err,ts_err,mobj"
   ]
  },
  {
   "cell_type": "markdown",
   "id": "14b8e03b",
   "metadata": {},
   "source": [
    "# Random forest Regression"
   ]
  },
  {
   "cell_type": "code",
   "execution_count": 81,
   "id": "83900baf",
   "metadata": {},
   "outputs": [
    {
     "data": {
      "text/plain": [
       "(13.5628, 36.2419, RandomForestRegressor(random_state=42))"
      ]
     },
     "execution_count": 81,
     "metadata": {},
     "output_type": "execute_result"
    }
   ],
   "source": [
    "Rfr =RandomForestRegressor(random_state=42)\n",
    "Model_Reg(Rfr)"
   ]
  },
  {
   "cell_type": "markdown",
   "id": "c30982ee",
   "metadata": {},
   "source": [
    "# Decision Tree Regression"
   ]
  },
  {
   "cell_type": "code",
   "execution_count": 82,
   "id": "bfd77d67",
   "metadata": {},
   "outputs": [
    {
     "data": {
      "text/plain": [
       "(0.0, 52.0393, DecisionTreeRegressor(random_state=31))"
      ]
     },
     "execution_count": 82,
     "metadata": {},
     "output_type": "execute_result"
    }
   ],
   "source": [
    "dtr = DecisionTreeRegressor(random_state=31)\n",
    "Model_Reg(dtr)"
   ]
  },
  {
   "cell_type": "markdown",
   "id": "9b18429a",
   "metadata": {},
   "source": [
    "# Adaboost Regression"
   ]
  },
  {
   "cell_type": "code",
   "execution_count": 83,
   "id": "1bfd9ee0",
   "metadata": {},
   "outputs": [
    {
     "data": {
      "text/plain": [
       "(1.7126,\n",
       " 37.3377,\n",
       " AdaBoostRegressor(base_estimator=DecisionTreeRegressor(random_state=31),\n",
       "                   random_state=21))"
      ]
     },
     "execution_count": 83,
     "metadata": {},
     "output_type": "execute_result"
    }
   ],
   "source": [
    "abr = AdaBoostRegressor(dtr,random_state=21)\n",
    "Model_Reg(abr)"
   ]
  },
  {
   "cell_type": "markdown",
   "id": "ec7c9a11",
   "metadata": {},
   "source": [
    "# Tune the hyperparameter"
   ]
  },
  {
   "cell_type": "code",
   "execution_count": 84,
   "id": "229785a4",
   "metadata": {},
   "outputs": [],
   "source": [
    "def CV(mobj,tp):\n",
    "    from sklearn.model_selection import GridSearchCV\n",
    "    cv = GridSearchCV(mobj,tp,scoring=\"neg_mean_absolute_error\",cv=4)\n",
    "    cvmodel = cv.fit(x_train,y_train)\n",
    "    return cvmodel.best_params_"
   ]
  },
  {
   "cell_type": "code",
   "execution_count": 85,
   "id": "5cef5d31",
   "metadata": {},
   "outputs": [
    {
     "name": "stdout",
     "output_type": "stream",
     "text": [
      "{'max_depth': 3}\n",
      "{'min_samples_leaf': 29}\n",
      "{'min_samples_split': 45}\n"
     ]
    }
   ],
   "source": [
    "for i in [\"max_depth\",\"min_samples_leaf\",\"min_samples_split\"]: #decision tree\n",
    "    tg = {i:range(2,50)}\n",
    "    print(CV(dtr,tg))"
   ]
  },
  {
   "cell_type": "code",
   "execution_count": 86,
   "id": "b357e5af",
   "metadata": {},
   "outputs": [
    {
     "data": {
      "text/plain": [
       "(35.6867, 41.8475, DecisionTreeRegressor(max_depth=3, random_state=31))"
      ]
     },
     "execution_count": 86,
     "metadata": {},
     "output_type": "execute_result"
    }
   ],
   "source": [
    "dtr_depth = DecisionTreeRegressor(max_depth=3,random_state=31)\n",
    "Model_Reg(dtr_depth)"
   ]
  },
  {
   "cell_type": "code",
   "execution_count": 87,
   "id": "e8618a30",
   "metadata": {},
   "outputs": [
    {
     "data": {
      "text/plain": [
       "(35.3402, 37.3667, DecisionTreeRegressor(min_samples_leaf=29, random_state=31))"
      ]
     },
     "execution_count": 87,
     "metadata": {},
     "output_type": "execute_result"
    }
   ],
   "source": [
    "dtr_leaf = DecisionTreeRegressor(min_samples_leaf=29,random_state=31)\n",
    "Model_Reg(dtr_leaf)"
   ]
  },
  {
   "cell_type": "code",
   "execution_count": 88,
   "id": "bd5f813d",
   "metadata": {},
   "outputs": [
    {
     "data": {
      "text/plain": [
       "(31.0482,\n",
       " 41.2398,\n",
       " DecisionTreeRegressor(min_samples_split=45, random_state=31))"
      ]
     },
     "execution_count": 88,
     "metadata": {},
     "output_type": "execute_result"
    }
   ],
   "source": [
    "dtr_split = DecisionTreeRegressor(min_samples_split=45,random_state=31)\n",
    "Model_Reg(dtr_split)"
   ]
  },
  {
   "cell_type": "code",
   "execution_count": 89,
   "id": "1546c24e",
   "metadata": {},
   "outputs": [
    {
     "data": {
      "text/plain": [
       "{'max_depth': 7}"
      ]
     },
     "execution_count": 89,
     "metadata": {},
     "output_type": "execute_result"
    }
   ],
   "source": [
    "tp = {\"max_depth\":range(2,10,1)}      #random forest\n",
    "CV(Rfr,tp)"
   ]
  },
  {
   "cell_type": "code",
   "execution_count": 90,
   "id": "bab9c047",
   "metadata": {},
   "outputs": [
    {
     "data": {
      "text/plain": [
       "(23.5963, 35.3209, RandomForestRegressor(max_depth=7, random_state=42))"
      ]
     },
     "execution_count": 90,
     "metadata": {},
     "output_type": "execute_result"
    }
   ],
   "source": [
    "rfr = RandomForestRegressor(max_depth=7,random_state=42)\n",
    "Model_Reg(rfr)"
   ]
  },
  {
   "cell_type": "code",
   "execution_count": 91,
   "id": "7434d010",
   "metadata": {},
   "outputs": [
    {
     "data": {
      "text/plain": [
       "{'n_estimators': 17}"
      ]
     },
     "execution_count": 91,
     "metadata": {},
     "output_type": "execute_result"
    }
   ],
   "source": [
    "tp = {\"n_estimators\":range(2,20,1)}      #adaboost Regression\n",
    "CV(abr,tp)"
   ]
  },
  {
   "cell_type": "code",
   "execution_count": 92,
   "id": "c66c667c",
   "metadata": {},
   "outputs": [
    {
     "data": {
      "text/plain": [
       "(26.3398,\n",
       " 36.5763,\n",
       " AdaBoostRegressor(base_estimator=DecisionTreeRegressor(min_samples_split=45,\n",
       "                                                        random_state=31),\n",
       "                   n_estimators=17, random_state=31))"
      ]
     },
     "execution_count": 92,
     "metadata": {},
     "output_type": "execute_result"
    }
   ],
   "source": [
    "abr = AdaBoostRegressor(dtr_split,n_estimators=17,random_state=31)\n",
    "Model_Reg(abr)"
   ]
  },
  {
   "cell_type": "markdown",
   "id": "5ffaa46b",
   "metadata": {},
   "source": [
    "# Prepare data to predict loan amount"
   ]
  },
  {
   "cell_type": "code",
   "execution_count": 93,
   "id": "1a694a7a",
   "metadata": {},
   "outputs": [
    {
     "data": {
      "text/plain": [
       "Index(['Loan_ID', 'Gender', 'Married', 'Dependents', 'Education',\n",
       "       'Self_Employed', 'ApplicantIncome', 'CoapplicantIncome', 'LoanAmount',\n",
       "       'Loan_Amount_Term', 'Credit_History', 'Property_Area',\n",
       "       'Predicted_Loan_Status'],\n",
       "      dtype='object')"
      ]
     },
     "execution_count": 93,
     "metadata": {},
     "output_type": "execute_result"
    }
   ],
   "source": [
    "rejects.columns"
   ]
  },
  {
   "cell_type": "code",
   "execution_count": 94,
   "id": "859ef6d3",
   "metadata": {},
   "outputs": [],
   "source": [
    "Rejects = rejects.drop(labels=[\"Loan_ID\",\"LoanAmount\"],axis=1)"
   ]
  },
  {
   "cell_type": "code",
   "execution_count": 95,
   "id": "7854b3e8",
   "metadata": {},
   "outputs": [
    {
     "data": {
      "text/plain": [
       "(102, 11)"
      ]
     },
     "execution_count": 95,
     "metadata": {},
     "output_type": "execute_result"
    }
   ],
   "source": [
    "Rejects.shape"
   ]
  },
  {
   "cell_type": "code",
   "execution_count": 96,
   "id": "4fc50c64",
   "metadata": {},
   "outputs": [],
   "source": [
    "Rejects.index = range(0,102,1)"
   ]
  },
  {
   "cell_type": "code",
   "execution_count": 97,
   "id": "385ab2d1",
   "metadata": {},
   "outputs": [
    {
     "data": {
      "text/plain": [
       "Gender                   4\n",
       "Married                  0\n",
       "Dependents               3\n",
       "Education                0\n",
       "Self_Employed            3\n",
       "ApplicantIncome          0\n",
       "CoapplicantIncome        0\n",
       "Loan_Amount_Term         0\n",
       "Credit_History           6\n",
       "Property_Area            0\n",
       "Predicted_Loan_Status    0\n",
       "dtype: int64"
      ]
     },
     "execution_count": 97,
     "metadata": {},
     "output_type": "execute_result"
    }
   ],
   "source": [
    "Rejects.isna().sum()"
   ]
  },
  {
   "cell_type": "code",
   "execution_count": 98,
   "id": "2898dce5",
   "metadata": {},
   "outputs": [],
   "source": [
    "Replace_nan(Rejects)"
   ]
  },
  {
   "cell_type": "code",
   "execution_count": 99,
   "id": "a150b7dd",
   "metadata": {},
   "outputs": [],
   "source": [
    "Xtest = preprocessing(Rejects)"
   ]
  },
  {
   "cell_type": "markdown",
   "id": "5497d836",
   "metadata": {},
   "source": [
    "# Prediction using Random Forest Regression"
   ]
  },
  {
   "cell_type": "code",
   "execution_count": 100,
   "id": "f99a72bd",
   "metadata": {},
   "outputs": [],
   "source": [
    "rfr = RandomForestRegressor(max_depth=7,random_state=42)\n",
    "model = rfr.fit(x_train,y_train)"
   ]
  },
  {
   "cell_type": "code",
   "execution_count": 101,
   "id": "5d0dd5e7",
   "metadata": {},
   "outputs": [
    {
     "data": {
      "text/plain": [
       "array([177.82080819,  87.9944619 ,  95.1321604 ,  78.57238976,\n",
       "        99.82154305, 168.76956719, 198.69076326, 101.75686852,\n",
       "       112.70346524, 105.78070395, 135.14047108,  95.25693817,\n",
       "       185.43194971,  97.47237664, 104.69695808, 157.12050861,\n",
       "       153.08454957, 113.23805886, 110.60158751, 108.37301038,\n",
       "       177.55853804, 197.66364707,  74.1283323 , 172.94407607,\n",
       "       111.66710704, 109.95766979,  74.48392588,  96.41650845,\n",
       "        77.81819233,  72.36610207,  98.94166393,  96.62687765,\n",
       "        99.94807636, 115.781706  , 367.012598  , 432.14791215,\n",
       "        90.03983763, 192.40703254, 115.29786624, 116.90624723,\n",
       "       312.8722606 , 161.43611602,  74.30838097, 138.65514224,\n",
       "       102.44018816, 112.20759489, 117.2850116 , 170.04773358,\n",
       "        73.11038097, 444.46799222,  99.66275368, 112.67608372,\n",
       "       185.43194971, 115.33659758,  88.48589807, 171.51646185,\n",
       "       182.49011273, 169.28079602,  83.94300643, 167.3652459 ,\n",
       "       260.22386257, 114.77355088, 116.49279241,  95.25693817,\n",
       "        69.68295476, 107.82608513, 109.7922683 , 117.87847231,\n",
       "       147.25757147, 438.21036457,  99.45456949, 173.61039557,\n",
       "       116.71253812, 156.36012187, 234.45500752, 117.28322103,\n",
       "        90.89834298, 208.89411644, 111.25402125, 116.64160987,\n",
       "       225.75555329, 414.21023023, 184.31699197, 116.75053923,\n",
       "       210.39505047, 161.46103727, 145.62073503, 103.71302498,\n",
       "       111.92087996, 114.64413936,  94.26360937, 170.30278187,\n",
       "       171.14580615,  87.81792726,  94.71073493, 114.61720981,\n",
       "       177.79826816,  74.78773342, 111.33217591,  83.51425643,\n",
       "        87.64027735, 223.0242598 ])"
      ]
     },
     "execution_count": 101,
     "metadata": {},
     "output_type": "execute_result"
    }
   ],
   "source": [
    "rejected_op = model.predict(Xtest)\n",
    "rejected_op"
   ]
  },
  {
   "cell_type": "code",
   "execution_count": 102,
   "id": "90a636b7",
   "metadata": {},
   "outputs": [],
   "source": [
    "Output =rejects[rejects.Predicted_Loan_Status==\"N\"]"
   ]
  },
  {
   "cell_type": "code",
   "execution_count": 103,
   "id": "a9a2f14b",
   "metadata": {},
   "outputs": [],
   "source": [
    "Output[\"Predicted_Loan_Amount\"]=rejected_op"
   ]
  },
  {
   "cell_type": "code",
   "execution_count": 104,
   "id": "629c49d2",
   "metadata": {},
   "outputs": [
    {
     "data": {
      "text/html": [
       "<div>\n",
       "<style scoped>\n",
       "    .dataframe tbody tr th:only-of-type {\n",
       "        vertical-align: middle;\n",
       "    }\n",
       "\n",
       "    .dataframe tbody tr th {\n",
       "        vertical-align: top;\n",
       "    }\n",
       "\n",
       "    .dataframe thead th {\n",
       "        text-align: right;\n",
       "    }\n",
       "</style>\n",
       "<table border=\"1\" class=\"dataframe\">\n",
       "  <thead>\n",
       "    <tr style=\"text-align: right;\">\n",
       "      <th></th>\n",
       "      <th>Loan_ID</th>\n",
       "      <th>Gender</th>\n",
       "      <th>Married</th>\n",
       "      <th>Dependents</th>\n",
       "      <th>Education</th>\n",
       "      <th>Self_Employed</th>\n",
       "      <th>ApplicantIncome</th>\n",
       "      <th>CoapplicantIncome</th>\n",
       "      <th>LoanAmount</th>\n",
       "      <th>Loan_Amount_Term</th>\n",
       "      <th>Credit_History</th>\n",
       "      <th>Property_Area</th>\n",
       "      <th>Predicted_Loan_Status</th>\n",
       "      <th>Predicted_Loan_Amount</th>\n",
       "    </tr>\n",
       "  </thead>\n",
       "  <tbody>\n",
       "    <tr>\n",
       "      <th>0</th>\n",
       "      <td>LP001015</td>\n",
       "      <td>Male</td>\n",
       "      <td>Yes</td>\n",
       "      <td>0</td>\n",
       "      <td>Graduate</td>\n",
       "      <td>No</td>\n",
       "      <td>5720</td>\n",
       "      <td>0</td>\n",
       "      <td>110.0</td>\n",
       "      <td>360.0</td>\n",
       "      <td>1.0</td>\n",
       "      <td>Urban</td>\n",
       "      <td>N</td>\n",
       "      <td>177.820808</td>\n",
       "    </tr>\n",
       "    <tr>\n",
       "      <th>4</th>\n",
       "      <td>LP001051</td>\n",
       "      <td>Male</td>\n",
       "      <td>No</td>\n",
       "      <td>0</td>\n",
       "      <td>Not Graduate</td>\n",
       "      <td>No</td>\n",
       "      <td>3276</td>\n",
       "      <td>0</td>\n",
       "      <td>78.0</td>\n",
       "      <td>360.0</td>\n",
       "      <td>1.0</td>\n",
       "      <td>Urban</td>\n",
       "      <td>N</td>\n",
       "      <td>87.994462</td>\n",
       "    </tr>\n",
       "    <tr>\n",
       "      <th>6</th>\n",
       "      <td>LP001055</td>\n",
       "      <td>Female</td>\n",
       "      <td>No</td>\n",
       "      <td>1</td>\n",
       "      <td>Not Graduate</td>\n",
       "      <td>No</td>\n",
       "      <td>2226</td>\n",
       "      <td>0</td>\n",
       "      <td>59.0</td>\n",
       "      <td>360.0</td>\n",
       "      <td>1.0</td>\n",
       "      <td>Semiurban</td>\n",
       "      <td>N</td>\n",
       "      <td>95.132160</td>\n",
       "    </tr>\n",
       "    <tr>\n",
       "      <th>10</th>\n",
       "      <td>LP001078</td>\n",
       "      <td>Male</td>\n",
       "      <td>No</td>\n",
       "      <td>0</td>\n",
       "      <td>Not Graduate</td>\n",
       "      <td>No</td>\n",
       "      <td>3091</td>\n",
       "      <td>0</td>\n",
       "      <td>90.0</td>\n",
       "      <td>360.0</td>\n",
       "      <td>1.0</td>\n",
       "      <td>Urban</td>\n",
       "      <td>N</td>\n",
       "      <td>78.572390</td>\n",
       "    </tr>\n",
       "    <tr>\n",
       "      <th>12</th>\n",
       "      <td>LP001083</td>\n",
       "      <td>Male</td>\n",
       "      <td>No</td>\n",
       "      <td>3+</td>\n",
       "      <td>Graduate</td>\n",
       "      <td>No</td>\n",
       "      <td>4166</td>\n",
       "      <td>0</td>\n",
       "      <td>40.0</td>\n",
       "      <td>180.0</td>\n",
       "      <td>NaN</td>\n",
       "      <td>Urban</td>\n",
       "      <td>N</td>\n",
       "      <td>99.821543</td>\n",
       "    </tr>\n",
       "    <tr>\n",
       "      <th>15</th>\n",
       "      <td>LP001099</td>\n",
       "      <td>Male</td>\n",
       "      <td>No</td>\n",
       "      <td>1</td>\n",
       "      <td>Graduate</td>\n",
       "      <td>No</td>\n",
       "      <td>5667</td>\n",
       "      <td>0</td>\n",
       "      <td>131.0</td>\n",
       "      <td>360.0</td>\n",
       "      <td>1.0</td>\n",
       "      <td>Urban</td>\n",
       "      <td>N</td>\n",
       "      <td>168.769567</td>\n",
       "    </tr>\n",
       "  </tbody>\n",
       "</table>\n",
       "</div>"
      ],
      "text/plain": [
       "     Loan_ID  Gender Married Dependents     Education Self_Employed  \\\n",
       "0   LP001015    Male     Yes          0      Graduate            No   \n",
       "4   LP001051    Male      No          0  Not Graduate            No   \n",
       "6   LP001055  Female      No          1  Not Graduate            No   \n",
       "10  LP001078    Male      No          0  Not Graduate            No   \n",
       "12  LP001083    Male      No         3+      Graduate            No   \n",
       "15  LP001099    Male      No          1      Graduate            No   \n",
       "\n",
       "    ApplicantIncome  CoapplicantIncome  LoanAmount  Loan_Amount_Term  \\\n",
       "0              5720                  0       110.0             360.0   \n",
       "4              3276                  0        78.0             360.0   \n",
       "6              2226                  0        59.0             360.0   \n",
       "10             3091                  0        90.0             360.0   \n",
       "12             4166                  0        40.0             180.0   \n",
       "15             5667                  0       131.0             360.0   \n",
       "\n",
       "    Credit_History Property_Area Predicted_Loan_Status  Predicted_Loan_Amount  \n",
       "0              1.0         Urban                     N             177.820808  \n",
       "4              1.0         Urban                     N              87.994462  \n",
       "6              1.0     Semiurban                     N              95.132160  \n",
       "10             1.0         Urban                     N              78.572390  \n",
       "12             NaN         Urban                     N              99.821543  \n",
       "15             1.0         Urban                     N             168.769567  "
      ]
     },
     "execution_count": 104,
     "metadata": {},
     "output_type": "execute_result"
    }
   ],
   "source": [
    "Output.head(6)"
   ]
  },
  {
   "cell_type": "code",
   "execution_count": null,
   "id": "52227201",
   "metadata": {},
   "outputs": [],
   "source": []
  },
  {
   "cell_type": "code",
   "execution_count": null,
   "id": "42480a13",
   "metadata": {},
   "outputs": [],
   "source": []
  },
  {
   "cell_type": "code",
   "execution_count": null,
   "id": "bc8bcdb3",
   "metadata": {},
   "outputs": [],
   "source": []
  }
 ],
 "metadata": {
  "kernelspec": {
   "display_name": "Python 3 (ipykernel)",
   "language": "python",
   "name": "python3"
  },
  "language_info": {
   "codemirror_mode": {
    "name": "ipython",
    "version": 3
   },
   "file_extension": ".py",
   "mimetype": "text/x-python",
   "name": "python",
   "nbconvert_exporter": "python",
   "pygments_lexer": "ipython3",
   "version": "3.9.7"
  }
 },
 "nbformat": 4,
 "nbformat_minor": 5
}
